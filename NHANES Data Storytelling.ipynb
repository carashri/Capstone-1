{
 "cells": [
  {
   "cell_type": "markdown",
   "metadata": {},
   "source": [
    "### Capstone I - NHANES Data Storytelling\n",
    "\n",
    "The goal of this project is to identify ways to predict, and therefore prevent, hospital readmissions, with a focus on patients with cardiovascular disease. We will investigate risk factors for individuals with hospital stays of greater than 1 night, based on data from the Centers for Disease Control and Preventions National Health and Nutrition Examination Survey (NHANES) from 2015-2016. For the data storytelling portion of the project, some of the questions we will be asking include:\n",
    "\n",
    "-\tHow does number of hospital stays differ between people of different ethnicities?\n",
    "-\tHow does number of hospital stays differ between people with different food security?\n",
    "-\tIs there a relationship between blood lab levels and number of hospital nights?\n",
    "-\tIs there a relationship between CVD overall and number of hospital stays?\n",
    "-\tDoes the depression score have an impact number of hospital stays?\n",
    "-\tIs there a relationship between people with cardiovascular disease (CVD) and depression (or other variables) and # hospital stays?\n",
    "        \n",
    "2. Can you find trends (e.g. high, low, increasing, decreasing, anomalies)?\n",
    "\n",
    "3. Can you make a bar plot or a histogram?\n",
    "\n",
    "4. Can you compare two related quantities?\n",
    "\n",
    "5. Can you make a scatterplot?\n",
    "\n",
    "\n",
    "Looking at the plots, what are some insights you can make? \n",
    "\n",
    "8. Do you see any correlations? \n",
    "\n",
    "9. Is there a hypothesis you’d like to investigate further? \n",
    "\n",
    "10. What other questions do the insights lead you to ask?\n",
    "\n",
    "\n",
    "Now that you’ve asked questions, hopefully you’ve found some interesting insights.\n",
    "11. Is there a narrative or a way of presenting the insights using text and plots that tells a compelling story? \n",
    "\n",
    "12. What are some other trends/relationships you think will make the story more complete?\n"
   ]
  },
  {
   "cell_type": "code",
   "execution_count": 1,
   "metadata": {},
   "outputs": [],
   "source": [
    "import pandas as pd\n",
    "import numpy as np\n",
    "import matplotlib.pyplot as plt\n",
    "import seaborn as sns\n"
   ]
  },
  {
   "cell_type": "markdown",
   "metadata": {},
   "source": [
    "#### Reading in the data."
   ]
  },
  {
   "cell_type": "code",
   "execution_count": 2,
   "metadata": {},
   "outputs": [],
   "source": [
    "nhanes = pd.read_csv('nhanes.csv')\n"
   ]
  },
  {
   "cell_type": "code",
   "execution_count": 3,
   "metadata": {
    "scrolled": true
   },
   "outputs": [
    {
     "data": {
      "text/html": [
       "<div>\n",
       "<style scoped>\n",
       "    .dataframe tbody tr th:only-of-type {\n",
       "        vertical-align: middle;\n",
       "    }\n",
       "\n",
       "    .dataframe tbody tr th {\n",
       "        vertical-align: top;\n",
       "    }\n",
       "\n",
       "    .dataframe thead th {\n",
       "        text-align: right;\n",
       "    }\n",
       "</style>\n",
       "<table border=\"1\" class=\"dataframe\">\n",
       "  <thead>\n",
       "    <tr style=\"text-align: right;\">\n",
       "      <th></th>\n",
       "      <th>seqn</th>\n",
       "      <th>age</th>\n",
       "      <th>gender</th>\n",
       "      <th>ethnicity</th>\n",
       "      <th>lang_hisp</th>\n",
       "      <th>lang_nhb_nhw</th>\n",
       "      <th>lang_asian</th>\n",
       "      <th>foodsec</th>\n",
       "      <th>depr1</th>\n",
       "      <th>depr2</th>\n",
       "      <th>depr3</th>\n",
       "      <th>depr4</th>\n",
       "      <th>depr5</th>\n",
       "      <th>depr6</th>\n",
       "      <th>depr7</th>\n",
       "      <th>depr8</th>\n",
       "      <th>depr9</th>\n",
       "      <th>depr10</th>\n",
       "      <th>depr_score</th>\n",
       "      <th>diabetes</th>\n",
       "      <th>diabetes_age</th>\n",
       "      <th>prediabetes</th>\n",
       "      <th>chf</th>\n",
       "      <th>chf_age</th>\n",
       "      <th>chd</th>\n",
       "      <th>chd_age</th>\n",
       "      <th>angina</th>\n",
       "      <th>angina_age</th>\n",
       "      <th>heartattack</th>\n",
       "      <th>heartattack_age</th>\n",
       "      <th>stroke</th>\n",
       "      <th>stroke_age</th>\n",
       "      <th>cvd_onset_age</th>\n",
       "      <th>glucose</th>\n",
       "      <th>hdl</th>\n",
       "      <th>tg</th>\n",
       "      <th>ldl</th>\n",
       "      <th>tchol</th>\n",
       "      <th>hgba1c</th>\n",
       "      <th>bmi</th>\n",
       "      <th>bodyfatpct</th>\n",
       "      <th>numhosp</th>\n",
       "    </tr>\n",
       "  </thead>\n",
       "  <tbody>\n",
       "    <tr>\n",
       "      <td>0</td>\n",
       "      <td>83732.0</td>\n",
       "      <td>62.0</td>\n",
       "      <td>0.0</td>\n",
       "      <td>white</td>\n",
       "      <td>NaN</td>\n",
       "      <td>1.0</td>\n",
       "      <td>NaN</td>\n",
       "      <td>3.0</td>\n",
       "      <td>0.0</td>\n",
       "      <td>0.0</td>\n",
       "      <td>0.0</td>\n",
       "      <td>1.0</td>\n",
       "      <td>0.0</td>\n",
       "      <td>0.0</td>\n",
       "      <td>0.0</td>\n",
       "      <td>0.0</td>\n",
       "      <td>0.0</td>\n",
       "      <td>0.0</td>\n",
       "      <td>1.0</td>\n",
       "      <td>1.0</td>\n",
       "      <td>46.0</td>\n",
       "      <td>NaN</td>\n",
       "      <td>0.0</td>\n",
       "      <td>NaN</td>\n",
       "      <td>0.0</td>\n",
       "      <td>NaN</td>\n",
       "      <td>0.0</td>\n",
       "      <td>NaN</td>\n",
       "      <td>0.0</td>\n",
       "      <td>NaN</td>\n",
       "      <td>0.0</td>\n",
       "      <td>NaN</td>\n",
       "      <td>NaN</td>\n",
       "      <td>NaN</td>\n",
       "      <td>46.0</td>\n",
       "      <td>NaN</td>\n",
       "      <td>NaN</td>\n",
       "      <td>173.0</td>\n",
       "      <td>7.0</td>\n",
       "      <td>27.8</td>\n",
       "      <td>NaN</td>\n",
       "      <td>NaN</td>\n",
       "    </tr>\n",
       "    <tr>\n",
       "      <td>1</td>\n",
       "      <td>83733.0</td>\n",
       "      <td>53.0</td>\n",
       "      <td>0.0</td>\n",
       "      <td>white</td>\n",
       "      <td>NaN</td>\n",
       "      <td>NaN</td>\n",
       "      <td>NaN</td>\n",
       "      <td>3.0</td>\n",
       "      <td>1.0</td>\n",
       "      <td>0.0</td>\n",
       "      <td>0.0</td>\n",
       "      <td>0.0</td>\n",
       "      <td>1.0</td>\n",
       "      <td>0.0</td>\n",
       "      <td>0.0</td>\n",
       "      <td>0.0</td>\n",
       "      <td>0.0</td>\n",
       "      <td>0.0</td>\n",
       "      <td>2.0</td>\n",
       "      <td>0.0</td>\n",
       "      <td>NaN</td>\n",
       "      <td>0.0</td>\n",
       "      <td>0.0</td>\n",
       "      <td>NaN</td>\n",
       "      <td>0.0</td>\n",
       "      <td>NaN</td>\n",
       "      <td>0.0</td>\n",
       "      <td>NaN</td>\n",
       "      <td>0.0</td>\n",
       "      <td>NaN</td>\n",
       "      <td>0.0</td>\n",
       "      <td>NaN</td>\n",
       "      <td>NaN</td>\n",
       "      <td>101.0</td>\n",
       "      <td>63.0</td>\n",
       "      <td>147.0</td>\n",
       "      <td>173.0</td>\n",
       "      <td>265.0</td>\n",
       "      <td>5.5</td>\n",
       "      <td>30.8</td>\n",
       "      <td>30.0</td>\n",
       "      <td>NaN</td>\n",
       "    </tr>\n",
       "    <tr>\n",
       "      <td>2</td>\n",
       "      <td>83734.0</td>\n",
       "      <td>78.0</td>\n",
       "      <td>0.0</td>\n",
       "      <td>white</td>\n",
       "      <td>NaN</td>\n",
       "      <td>1.0</td>\n",
       "      <td>NaN</td>\n",
       "      <td>3.0</td>\n",
       "      <td>0.0</td>\n",
       "      <td>0.0</td>\n",
       "      <td>0.0</td>\n",
       "      <td>1.0</td>\n",
       "      <td>0.0</td>\n",
       "      <td>0.0</td>\n",
       "      <td>0.0</td>\n",
       "      <td>0.0</td>\n",
       "      <td>0.0</td>\n",
       "      <td>1.0</td>\n",
       "      <td>2.0</td>\n",
       "      <td>1.0</td>\n",
       "      <td>52.0</td>\n",
       "      <td>NaN</td>\n",
       "      <td>0.0</td>\n",
       "      <td>NaN</td>\n",
       "      <td>0.0</td>\n",
       "      <td>NaN</td>\n",
       "      <td>0.0</td>\n",
       "      <td>NaN</td>\n",
       "      <td>1.0</td>\n",
       "      <td>58.0</td>\n",
       "      <td>0.0</td>\n",
       "      <td>NaN</td>\n",
       "      <td>58.0</td>\n",
       "      <td>84.0</td>\n",
       "      <td>30.0</td>\n",
       "      <td>269.0</td>\n",
       "      <td>145.0</td>\n",
       "      <td>229.0</td>\n",
       "      <td>5.8</td>\n",
       "      <td>28.8</td>\n",
       "      <td>NaN</td>\n",
       "      <td>NaN</td>\n",
       "    </tr>\n",
       "    <tr>\n",
       "      <td>3</td>\n",
       "      <td>83735.0</td>\n",
       "      <td>56.0</td>\n",
       "      <td>1.0</td>\n",
       "      <td>white</td>\n",
       "      <td>NaN</td>\n",
       "      <td>1.0</td>\n",
       "      <td>NaN</td>\n",
       "      <td>3.0</td>\n",
       "      <td>1.0</td>\n",
       "      <td>1.0</td>\n",
       "      <td>2.0</td>\n",
       "      <td>2.0</td>\n",
       "      <td>1.0</td>\n",
       "      <td>3.0</td>\n",
       "      <td>2.0</td>\n",
       "      <td>0.0</td>\n",
       "      <td>1.0</td>\n",
       "      <td>0.0</td>\n",
       "      <td>13.0</td>\n",
       "      <td>0.0</td>\n",
       "      <td>NaN</td>\n",
       "      <td>1.0</td>\n",
       "      <td>0.0</td>\n",
       "      <td>NaN</td>\n",
       "      <td>0.0</td>\n",
       "      <td>NaN</td>\n",
       "      <td>0.0</td>\n",
       "      <td>NaN</td>\n",
       "      <td>0.0</td>\n",
       "      <td>NaN</td>\n",
       "      <td>0.0</td>\n",
       "      <td>NaN</td>\n",
       "      <td>NaN</td>\n",
       "      <td>NaN</td>\n",
       "      <td>61.0</td>\n",
       "      <td>NaN</td>\n",
       "      <td>NaN</td>\n",
       "      <td>174.0</td>\n",
       "      <td>5.6</td>\n",
       "      <td>42.4</td>\n",
       "      <td>50.9</td>\n",
       "      <td>NaN</td>\n",
       "    </tr>\n",
       "    <tr>\n",
       "      <td>4</td>\n",
       "      <td>83736.0</td>\n",
       "      <td>42.0</td>\n",
       "      <td>1.0</td>\n",
       "      <td>black</td>\n",
       "      <td>NaN</td>\n",
       "      <td>1.0</td>\n",
       "      <td>NaN</td>\n",
       "      <td>2.0</td>\n",
       "      <td>1.0</td>\n",
       "      <td>1.0</td>\n",
       "      <td>1.0</td>\n",
       "      <td>1.0</td>\n",
       "      <td>3.0</td>\n",
       "      <td>0.0</td>\n",
       "      <td>1.0</td>\n",
       "      <td>0.0</td>\n",
       "      <td>0.0</td>\n",
       "      <td>0.0</td>\n",
       "      <td>8.0</td>\n",
       "      <td>0.0</td>\n",
       "      <td>NaN</td>\n",
       "      <td>0.0</td>\n",
       "      <td>0.0</td>\n",
       "      <td>NaN</td>\n",
       "      <td>0.0</td>\n",
       "      <td>NaN</td>\n",
       "      <td>0.0</td>\n",
       "      <td>NaN</td>\n",
       "      <td>0.0</td>\n",
       "      <td>NaN</td>\n",
       "      <td>0.0</td>\n",
       "      <td>NaN</td>\n",
       "      <td>NaN</td>\n",
       "      <td>84.0</td>\n",
       "      <td>53.0</td>\n",
       "      <td>47.0</td>\n",
       "      <td>142.0</td>\n",
       "      <td>204.0</td>\n",
       "      <td>5.6</td>\n",
       "      <td>20.3</td>\n",
       "      <td>NaN</td>\n",
       "      <td>NaN</td>\n",
       "    </tr>\n",
       "  </tbody>\n",
       "</table>\n",
       "</div>"
      ],
      "text/plain": [
       "      seqn   age  gender ethnicity lang_hisp  lang_nhb_nhw lang_asian  \\\n",
       "0  83732.0  62.0     0.0     white       NaN           1.0        NaN   \n",
       "1  83733.0  53.0     0.0     white       NaN           NaN        NaN   \n",
       "2  83734.0  78.0     0.0     white       NaN           1.0        NaN   \n",
       "3  83735.0  56.0     1.0     white       NaN           1.0        NaN   \n",
       "4  83736.0  42.0     1.0     black       NaN           1.0        NaN   \n",
       "\n",
       "   foodsec  depr1  depr2  depr3  depr4  depr5  depr6  depr7  depr8  depr9  \\\n",
       "0      3.0    0.0    0.0    0.0    1.0    0.0    0.0    0.0    0.0    0.0   \n",
       "1      3.0    1.0    0.0    0.0    0.0    1.0    0.0    0.0    0.0    0.0   \n",
       "2      3.0    0.0    0.0    0.0    1.0    0.0    0.0    0.0    0.0    0.0   \n",
       "3      3.0    1.0    1.0    2.0    2.0    1.0    3.0    2.0    0.0    1.0   \n",
       "4      2.0    1.0    1.0    1.0    1.0    3.0    0.0    1.0    0.0    0.0   \n",
       "\n",
       "   depr10  depr_score  diabetes  diabetes_age  prediabetes  chf  chf_age  chd  \\\n",
       "0     0.0         1.0       1.0          46.0          NaN  0.0      NaN  0.0   \n",
       "1     0.0         2.0       0.0           NaN          0.0  0.0      NaN  0.0   \n",
       "2     1.0         2.0       1.0          52.0          NaN  0.0      NaN  0.0   \n",
       "3     0.0        13.0       0.0           NaN          1.0  0.0      NaN  0.0   \n",
       "4     0.0         8.0       0.0           NaN          0.0  0.0      NaN  0.0   \n",
       "\n",
       "   chd_age  angina  angina_age  heartattack  heartattack_age  stroke  \\\n",
       "0      NaN     0.0         NaN          0.0              NaN     0.0   \n",
       "1      NaN     0.0         NaN          0.0              NaN     0.0   \n",
       "2      NaN     0.0         NaN          1.0             58.0     0.0   \n",
       "3      NaN     0.0         NaN          0.0              NaN     0.0   \n",
       "4      NaN     0.0         NaN          0.0              NaN     0.0   \n",
       "\n",
       "   stroke_age  cvd_onset_age  glucose   hdl     tg    ldl  tchol  hgba1c  \\\n",
       "0         NaN            NaN      NaN  46.0    NaN    NaN  173.0     7.0   \n",
       "1         NaN            NaN    101.0  63.0  147.0  173.0  265.0     5.5   \n",
       "2         NaN           58.0     84.0  30.0  269.0  145.0  229.0     5.8   \n",
       "3         NaN            NaN      NaN  61.0    NaN    NaN  174.0     5.6   \n",
       "4         NaN            NaN     84.0  53.0   47.0  142.0  204.0     5.6   \n",
       "\n",
       "    bmi  bodyfatpct  numhosp  \n",
       "0  27.8         NaN      NaN  \n",
       "1  30.8        30.0      NaN  \n",
       "2  28.8         NaN      NaN  \n",
       "3  42.4        50.9      NaN  \n",
       "4  20.3         NaN      NaN  "
      ]
     },
     "execution_count": 3,
     "metadata": {},
     "output_type": "execute_result"
    }
   ],
   "source": [
    "pd.set_option('display.max_columns',50)\n",
    "nhanes.head()"
   ]
  },
  {
   "cell_type": "markdown",
   "metadata": {},
   "source": [
    "#### During the data cleaning phase, we identified approximately 40 variables of interest from the 2015-2016 NHANES dataset, including: \n",
    "Demographic Information:\n",
    "Age,\n",
    "Gender,\n",
    "Ethnicity,\n",
    "Language, \n",
    "Food Security\n",
    "\n",
    "Presence of Disease and Age of onset:\n",
    "Diabetes and Diabetes age of onset,\n",
    "Prediabetes,\n",
    "Congestive Heart Failure and Age of onset,\n",
    "Depression Screening Results (set of 10 questions and overall score),\n",
    "Coronary Heart Disease and Age of onset,\n",
    "Angina/Angina Pectoris and Age of onset,\n",
    "Heart Attack and Age of onset,\n",
    "Stroke and Age of onset,\n",
    "Age of Onset of Cardiovascular disease (based on earliest Age of Onset of the 5 types of CVD examined in the dataset)\n",
    "\n",
    "Blood Laboratory Values\n",
    "Fasting blood glucose,\n",
    "Hemoglobin A1C,\n",
    "Total Cholesterol,\n",
    "LDL Cholesterol,\n",
    "HDL Cholesterol,\n",
    "Fasting Triglycerides,\n",
    "\n",
    "Physical Measurements (calculated):\n",
    "Body Mass Index,\n",
    "Percent Body Fat\n",
    "\n",
    "Hospital Admission Information:\n",
    "Hospital stays (total number stays of 1 night or more) in the last year\n",
    "\n"
   ]
  },
  {
   "cell_type": "code",
   "execution_count": 4,
   "metadata": {},
   "outputs": [
    {
     "name": "stdout",
     "output_type": "stream",
     "text": [
      "(5992, 42)\n",
      "<class 'pandas.core.frame.DataFrame'>\n",
      "RangeIndex: 5992 entries, 0 to 5991\n",
      "Data columns (total 42 columns):\n",
      "seqn               5992 non-null float64\n",
      "age                5992 non-null float64\n",
      "gender             5992 non-null float64\n",
      "ethnicity          5992 non-null object\n",
      "lang_hisp          1851 non-null object\n",
      "lang_nhb_nhw       3294 non-null float64\n",
      "lang_asian         723 non-null object\n",
      "foodsec            5766 non-null float64\n",
      "depr1              5151 non-null float64\n",
      "depr2              5161 non-null float64\n",
      "depr3              5161 non-null float64\n",
      "depr4              5161 non-null float64\n",
      "depr5              5158 non-null float64\n",
      "depr6              5159 non-null float64\n",
      "depr7              5159 non-null float64\n",
      "depr8              5158 non-null float64\n",
      "depr9              5157 non-null float64\n",
      "depr10             3577 non-null float64\n",
      "depr_score         3559 non-null float64\n",
      "diabetes           5988 non-null float64\n",
      "diabetes_age       830 non-null float64\n",
      "prediabetes        5005 non-null float64\n",
      "chf                5708 non-null float64\n",
      "chf_age            209 non-null float64\n",
      "chd                5693 non-null float64\n",
      "chd_age            239 non-null float64\n",
      "angina             5701 non-null float64\n",
      "angina_age         131 non-null float64\n",
      "heartattack        5710 non-null float64\n",
      "heartattack_age    246 non-null float64\n",
      "stroke             5714 non-null float64\n",
      "stroke_age         205 non-null float64\n",
      "cvd_onset_age      625 non-null float64\n",
      "glucose            2573 non-null float64\n",
      "hdl                5394 non-null float64\n",
      "tg                 2363 non-null float64\n",
      "ldl                2339 non-null float64\n",
      "tchol              5394 non-null float64\n",
      "hgba1c             5441 non-null float64\n",
      "bmi                5662 non-null float64\n",
      "bodyfatpct         3012 non-null float64\n",
      "numhosp            670 non-null float64\n",
      "dtypes: float64(39), object(3)\n",
      "memory usage: 1.9+ MB\n",
      "None\n"
     ]
    }
   ],
   "source": [
    "print(nhanes.shape)\n",
    "print(nhanes.info())\n"
   ]
  },
  {
   "cell_type": "markdown",
   "metadata": {},
   "source": [
    "#### The overall objective of this project is to identify ways to reduce number of hospital readmissions related to new onset cardiovascular disease(CVD). \n",
    "Here, we create a column that indicates whether participants had onset of CVD during the year of the study. Next, we create a subset of the nhanes data ('newcvd') that included only these participants."
   ]
  },
  {
   "cell_type": "code",
   "execution_count": 5,
   "metadata": {},
   "outputs": [
    {
     "name": "stdout",
     "output_type": "stream",
     "text": [
      "False    5929\n",
      "True       63\n",
      "Name: new_cvd, dtype: int64\n",
      "<class 'pandas.core.frame.DataFrame'>\n",
      "Int64Index: 63 entries, 36 to 5939\n",
      "Data columns (total 43 columns):\n",
      "seqn               63 non-null float64\n",
      "age                63 non-null float64\n",
      "gender             63 non-null float64\n",
      "ethnicity          63 non-null object\n",
      "lang_hisp          12 non-null object\n",
      "lang_nhb_nhw       43 non-null float64\n",
      "lang_asian         5 non-null object\n",
      "foodsec            62 non-null float64\n",
      "depr1              47 non-null float64\n",
      "depr2              48 non-null float64\n",
      "depr3              48 non-null float64\n",
      "depr4              48 non-null float64\n",
      "depr5              48 non-null float64\n",
      "depr6              48 non-null float64\n",
      "depr7              48 non-null float64\n",
      "depr8              48 non-null float64\n",
      "depr9              48 non-null float64\n",
      "depr10             35 non-null float64\n",
      "depr_score         35 non-null float64\n",
      "diabetes           63 non-null float64\n",
      "diabetes_age       19 non-null float64\n",
      "prediabetes        42 non-null float64\n",
      "chf                63 non-null float64\n",
      "chf_age            22 non-null float64\n",
      "chd                62 non-null float64\n",
      "chd_age            20 non-null float64\n",
      "angina             62 non-null float64\n",
      "angina_age         6 non-null float64\n",
      "heartattack        61 non-null float64\n",
      "heartattack_age    15 non-null float64\n",
      "stroke             62 non-null float64\n",
      "stroke_age         24 non-null float64\n",
      "cvd_onset_age      63 non-null float64\n",
      "glucose            28 non-null float64\n",
      "hdl                56 non-null float64\n",
      "tg                 21 non-null float64\n",
      "ldl                21 non-null float64\n",
      "tchol              56 non-null float64\n",
      "hgba1c             56 non-null float64\n",
      "bmi                57 non-null float64\n",
      "bodyfatpct         9 non-null float64\n",
      "numhosp            38 non-null float64\n",
      "new_cvd            63 non-null bool\n",
      "dtypes: bool(1), float64(39), object(3)\n",
      "memory usage: 21.2+ KB\n"
     ]
    }
   ],
   "source": [
    "# Creating column indicating participants with onset of cvd at their current age at time of the study\n",
    "nhanes['new_cvd'] = nhanes['cvd_onset_age'] == nhanes['age']\n",
    "nhanes['new_cvd']\n",
    "print(nhanes['new_cvd'].value_counts())\n",
    "\n",
    "# creating sample dataset with only new_cvd participants\n",
    "newcvd = nhanes.loc[nhanes['new_cvd']==True]\n",
    "newcvd.info()"
   ]
  },
  {
   "cell_type": "markdown",
   "metadata": {},
   "source": [
    "#### Number of Hospital Stays in the Last Year - Initial Exploration\n",
    "\n",
    "There are 670 and 38 entries for hospital stays of 1 or more night from the entire 'nhanes' dataset and the 'newcvd' data subset, respectively. To examine the frequency of 'number of hospital stays' in the given year, we  create a histogram of both datasets. As a reminder, participants who had hospital stays (1 night or more) selected: 1 stay, 2 stays, 3 stays, 4 stays, 5 stays, 6 or more stays.\n"
   ]
  },
  {
   "cell_type": "code",
   "execution_count": 39,
   "metadata": {},
   "outputs": [
    {
     "name": "stdout",
     "output_type": "stream",
     "text": [
      "The totals for number of hospital stays of 1 to 6 or more nights, over the entire dataset:\n",
      " 1.0    466\n",
      "2.0    120\n",
      "3.0     49\n",
      "4.0     14\n",
      "5.0     13\n",
      "6.0      8\n",
      "Name: numhosp, dtype: int64\n",
      "The totals for number of hospital stays of 1 to 6 or more nights for participants with cardiovascular disease:\n",
      " 1.0    24\n",
      "3.0     6\n",
      "2.0     5\n",
      "5.0     2\n",
      "4.0     1\n",
      "Name: numhosp, dtype: int64\n"
     ]
    },
    {
     "data": {
      "image/png": "[encoded data removed]",
      "text/plain": [
       "<Figure size 864x432 with 2 Axes>"
      ]
     },
     "metadata": {
      "needs_background": "light"
     },
     "output_type": "display_data"
    },
    {
     "name": "stdout",
     "output_type": "stream",
     "text": [
      "The median number of hospital stays for the newcvd group was:  1.0\n",
      "The median number of hospital stays for the overall nhanes group was:  1.0\n"
     ]
    }
   ],
   "source": [
    "print('The totals for number of hospital stays of 1 to 6 or more nights, over the entire dataset:\\n', nhanes.numhosp.value_counts())\n",
    "\n",
    "print('The totals for number of hospital stays of 1 to 6 or more nights for participants with cardiovascular disease:\\n', newcvd.numhosp.value_counts())\n",
    "\n",
    "f, axs = plt.subplots(2,2,figsize=(12,6))\n",
    "plt.subplot(1,2,1)\n",
    "newcvd.numhosp.plot(kind='hist', title='newcvd')\n",
    "plt.ylim(0,500)\n",
    "plt.xlim(0,7)\n",
    "\n",
    "plt.subplot(1,2,2)\n",
    "nhanes.numhosp.plot(kind='hist', title='nhanes')\n",
    "plt.ylim(0,500)\n",
    "plt.xlim(0,7)\n",
    "plt.show()\n",
    "print('The median number of hospital stays for the newcvd group was: ', newcvd.numhosp.median())\n",
    "print('The median number of hospital stays for the overall nhanes group was: ', nhanes.numhosp.median())\n"
   ]
  },
  {
   "cell_type": "markdown",
   "metadata": {},
   "source": [
    "The median hospital stays of both the new onset cvd and nhanes were both  1 hospital stay, as would be expected. To further examine the frequency data, we'll group together '2, 3, 4, 5, and 6' selections for numhosp, and compare the percent of stays between the nhanes and newcvd subset. "
   ]
  },
  {
   "cell_type": "code",
   "execution_count": 7,
   "metadata": {},
   "outputs": [
    {
     "name": "stdout",
     "output_type": "stream",
     "text": [
      "For the new onset CVD subset,  36.8 % of participants had 2 or more hospital stays.\n",
      " Median - readmissions for new onset CVD participants who had a hospital stay:  3.0 \n",
      "\n",
      "For the overall NHANES dataset,  30.4 % of participants had 2 or more hospital stays.\n",
      " Median - readmissions for overall nhanes participants who had a hospital stay:  2.0 \n",
      "\n"
     ]
    }
   ],
   "source": [
    "cvd_over1 = newcvd.loc[newcvd.numhosp>1]\n",
    "cvd_over1_total=cvd_over1.numhosp.value_counts().sum()\n",
    "cvd_allstays = newcvd.numhosp.value_counts().sum()\n",
    "cvd_percent_over1 = (cvd_over1_total/cvd_allstays * 100).round(1)\n",
    "print('For the new onset CVD subset, ', cvd_percent_over1, '% of participants had 2 or more hospital stays.')\n",
    "print(' Median - readmissions for new onset CVD participants who had a hospital stay: ', cvd_over1.numhosp.median(),'\\n')\n",
    "\n",
    "nhanes_over1 = nhanes.loc[nhanes.numhosp>1]\n",
    "nhanes_over1_total=nhanes_over1.numhosp.value_counts().sum()\n",
    "nhanes_allstays = nhanes.numhosp.value_counts().sum()\n",
    "nhanes_percent_over1 = (nhanes_over1_total/nhanes_allstays * 100).round(1)\n",
    "print('For the overall NHANES dataset, ', nhanes_percent_over1, '% of participants had 2 or more hospital stays.')\n",
    "\n",
    "print(' Median - readmissions for overall nhanes participants who had a hospital stay: ', nhanes_over1.numhosp.median(),'\\n')"
   ]
  },
  {
   "cell_type": "markdown",
   "metadata": {},
   "source": [
    "#### One or more hospital readmissions are more common with new onset CVD, when compared with hospital readmissions for the general population.\n"
   ]
  },
  {
   "cell_type": "markdown",
   "metadata": {},
   "source": [
    "Next, we will examine other factors that could affect number of hospital admissions."
   ]
  },
  {
   "cell_type": "code",
   "execution_count": 45,
   "metadata": {},
   "outputs": [
    {
     "data": {
      "image/png": "[encoded data removed]",
      "text/plain": [
       "<Figure size 720x288 with 2 Axes>"
      ]
     },
     "metadata": {
      "needs_background": "light"
     },
     "output_type": "display_data"
    },
    {
     "name": "stdout",
     "output_type": "stream",
     "text": [
      "median depression score for newcvd(2 or more hospital admissions):  5.5\n",
      "median depression score for newcvd(1 or more hospital admissions):  5.0\n",
      "median depression score for nhanes (2 or more hospital admissions):  6.0\n",
      "median depression score for nhanes (1 or more hospital admissions):  3.0\n"
     ]
    }
   ],
   "source": [
    "#Depression Score\n",
    "\n",
    "f, axs = plt.subplots(2,2,figsize=(10,4))\n",
    "color=sns.xkcd_rgb[\"slate blue\"]\n",
    "\n",
    "plt.subplot(1,2,1)\n",
    "sns.boxplot(data = cvd_over1, x='numhosp', y='depr_score', color=color)\n",
    "plt.title('newcvd')\n",
    "xmed=cvd_over1.depr_score.median()\n",
    "x = plt.gca().axes.get_xlim()\n",
    "plt.plot(x, len(x) * [xmed], sns.xkcd_rgb[\"pale red\"],linestyle='--', linewidth='3')\n",
    "plt.ylim(0,30)\n",
    "plt.subplot(1,2,2)\n",
    "sns.boxplot(data=nhanes_over1, x='numhosp', y='depr_score', color=color)\n",
    "plt.title('nhanes')\n",
    "x = plt.gca().axes.get_xlim()\n",
    "plt.plot(x, len(x) * [xmed], sns.xkcd_rgb[\"pale red\"], linestyle='--', linewidth='3')\n",
    "plt.show()\n",
    "print('median depression score for newcvd(2 or more hospital admissions): ', cvd_over1.depr_score.median() )\n",
    "print('median depression score for newcvd(1 or more hospital admissions): ', newcvd.depr_score.median())\n",
    "\n",
    "print('median depression score for nhanes (2 or more hospital admissions): ' , nhanes_over1.depr_score.median())\n",
    "print('median depression score for nhanes (1 or more hospital admissions): ' , nhanes.depr_score.median())\n"
   ]
  },
  {
   "cell_type": "markdown",
   "metadata": {},
   "source": [
    "#### Interestingly, but also not surprisingly, for 2 or more hospital stays, median depression score is about the same for newcvd  and nhanes.  However, for 1 or more hospital stays, There appears to be a significant difference between the nhanes and newcvd."
   ]
  },
  {
   "cell_type": "markdown",
   "metadata": {},
   "source": [
    "Continuing to explore some of the other features of the dataset and their relationship to number of hospital readmissions, we will look at possible relationships between number of admission and participant ethnicity."
   ]
  },
  {
   "cell_type": "code",
   "execution_count": 41,
   "metadata": {},
   "outputs": [
    {
     "data": {
      "image/png": "[encoded data removed]",
      "text/plain": [
       "<Figure size 864x360 with 2 Axes>"
      ]
     },
     "metadata": {
      "needs_background": "light"
     },
     "output_type": "display_data"
    }
   ],
   "source": [
    "#number of hospital stays by ethnicity\n",
    "f, axs = plt.subplots(2,2,figsize=(12,5))\n",
    "color=sns.xkcd_rgb[\"slate blue\"]\n",
    "\n",
    "\n",
    "plt.subplot(1,2,1)\n",
    "plt.title('newcvd')\n",
    "plt.xticks(rotation=45)\n",
    "plt.ylim(1,7)\n",
    "plt.tight_layout()\n",
    "sns.boxplot(data= cvd_over1, x='ethnicity', y='numhosp', color=color, order=('mexican','other_hisp', 'white', 'black', 'asian', 'other_race_or_multiracial'))\n",
    "plt.subplot(1,2,2)\n",
    "plt.title('nhanes')\n",
    "plt.ylim(1,7)\n",
    "plt.xticks(rotation=45)\n",
    "plt.tight_layout()\n",
    "sns.boxplot(data= nhanes_over1, x='ethnicity', y='numhosp', color=color, order=('mexican', 'other_hisp', 'white', 'black', 'asian', 'other_race_or_multiracial'))\n",
    "plt.show()\n"
   ]
  },
  {
   "cell_type": "markdown",
   "metadata": {},
   "source": [
    "#### In regard to ethnicity, the number of hospital stays for those who identified as non-hispanic Black is higher in the new onset CVD subset.\n",
    "\n",
    "Next, we will examine percentage of individuals that are Black in the subset vs the full dataset to get a better picture.\n"
   ]
  },
  {
   "cell_type": "code",
   "execution_count": 46,
   "metadata": {},
   "outputs": [
    {
     "name": "stdout",
     "output_type": "stream",
     "text": [
      "For the new onset CVD subset,  42.9 % of participants identified as Black.\n",
      " Median - number of admissions for Black ethnicity new onset CVD participants who had 2 or more hospital stays:  3.0 \n",
      "\n",
      "For the new onset CVD subset,  28.6 % of participants identified as White.\n",
      " Median - number of admissions for White ethnicity new onset CVD participants who had 2 or more hospital stays:  4.0 \n",
      "\n",
      "For nhanes  27.0  % of participants identified as Black.\n",
      " Median - number of admissions for Black ethnicity NHANES participants who had 2 or more hospital stays:  2.0 \n",
      "\n",
      "For nhanes,  30.4 % of participants identified as White.\n",
      " Median - number of admissions for White ethnicity nhanes participants who had 2 or more hospital stays:  2.0 \n",
      "\n"
     ]
    }
   ],
   "source": [
    "cvd_black = cvd_over1.loc[newcvd.ethnicity == 'black']\n",
    "cvd_black_total=cvd_black.ethnicity.value_counts().sum()\n",
    "cvd_all_ethnicities = cvd_over1.ethnicity.value_counts().sum()\n",
    "cvd_percent_black = (cvd_black_total/cvd_all_ethnicities * 100).round(1)\n",
    "print('For the new onset CVD subset, ', cvd_percent_black, '% of participants identified as Black.')\n",
    "print(' Median - number of admissions for Black ethnicity new onset CVD participants who had 2 or more hospital stays: ', cvd_black.numhosp.median(),'\\n')\n",
    "\n",
    "cvd_white = cvd_over1.loc[newcvd.ethnicity == 'white']\n",
    "cvd_white_total=cvd_white.ethnicity.value_counts().sum()\n",
    "cvd_all_ethnicities = cvd_over1.ethnicity.value_counts().sum()\n",
    "cvd_percent_white = (cvd_white_total/cvd_all_ethnicities * 100).round(1)\n",
    "print('For the new onset CVD subset, ', cvd_percent_white, '% of participants identified as White.')\n",
    "print(' Median - number of admissions for White ethnicity new onset CVD participants who had 2 or more hospital stays: ', cvd_white.numhosp.median(),'\\n')\n",
    "\n",
    "\n",
    "nhanes_black = nhanes_over1.loc[nhanes.ethnicity == 'black']\n",
    "nhanes_black_total=nhanes_black.ethnicity.value_counts().sum()\n",
    "nhanes_all_ethnicities = nhanes_over1.ethnicity.value_counts().sum()\n",
    "nhanes_percent_black = (nhanes_black_total/nhanes_all_ethnicities * 100).round(1)\n",
    "print('For nhanes ', nhanes_percent_black, ' % of participants identified as Black.')\n",
    "print(' Median - number of admissions for Black ethnicity NHANES participants who had 2 or more hospital stays: ', nhanes_black.numhosp.median(),'\\n')\n",
    "\n",
    "nhanes_white = nhanes_over1.loc[nhanes.ethnicity == 'white']\n",
    "nhanes_white_total=nhanes_white.ethnicity.value_counts().sum()\n",
    "nhanes_all_ethnicities = nhanes_over1.ethnicity.value_counts().sum()\n",
    "nhanes_percent_white = (nhanes_white_total/nhanes_all_ethnicities * 100).round(1)\n",
    "print('For nhanes, ', nhanes_percent_white, '% of participants identified as White.')\n",
    "print(' Median - number of admissions for White ethnicity nhanes participants who had 2 or more hospital stays: ', nhanes_white.numhosp.median(),'\\n')\n"
   ]
  },
  {
   "cell_type": "markdown",
   "metadata": {},
   "source": [
    "The percentage of participants who are Black in the subset is greater than that in the overall dataset (43% and 27% respectively), and the percentage of participants who are white in newcvd is similar to overall dataset (29% and 30% respectively). The median number of hospital stays is greatest in those in the White new onset CVD group. \n",
    "\n",
    "#### This suggests a correlation between White ethnicity and recurrence of hospital stays for new onset CVD. THere also appears to be a correlation of Black ethnicity and recurrence of hospital stays, but this does not seem as strong. Further investigation is needed as to the strength of the correlations and possible reasons this would be the case."
   ]
  },
  {
   "cell_type": "markdown",
   "metadata": {},
   "source": [
    "Next, we will examine how food security issues may affect hospital number of hospital admissions.\n",
    "\n"
   ]
  },
  {
   "cell_type": "code",
   "execution_count": 44,
   "metadata": {},
   "outputs": [
    {
     "data": {
      "image/png": "[encoded data removed]",
      "text/plain": [
       "<Figure size 432x288 with 1 Axes>"
      ]
     },
     "metadata": {
      "needs_background": "light"
     },
     "output_type": "display_data"
    },
    {
     "data": {
      "image/png": "[encoded data removed]",
      "text/plain": [
       "<Figure size 432x288 with 1 Axes>"
      ]
     },
     "metadata": {
      "needs_background": "light"
     },
     "output_type": "display_data"
    },
    {
     "name": "stdout",
     "output_type": "stream",
     "text": [
      "median foodsec for new cvd:  3.0\n",
      "median foodsec score for nhanes:  3.0\n"
     ]
    }
   ],
   "source": [
    "color=sns.xkcd_rgb[\"slate blue\"]\n",
    "\n",
    "sns.barplot(data = cvd_over1, x='numhosp', y='foodsec', color=color)\n",
    "plt.title('newcvd - The food that {I/we} bought just did not last, and {I/we} did not have enough money to get more food:/n 1= Often True, 2= Sometimes true, 3=Never True')\n",
    "plt.ylim(0,4)\n",
    "plt.show()\n",
    "sns.barplot(data=nhanes_over1, x='numhosp', y='foodsec', color=color)\n",
    "plt.title('nhanes - The food that {I/we} bought just did not last, and {I/we} did not have enough money to get more food:/n 1= Often True, 2= Sometimes true, 3=Never True')\n",
    "plt.ylim(0,4)\n",
    "plt.show()\n",
    "print('median foodsec for new cvd: ', cvd_over1.foodsec.median())\n",
    "print('median foodsec score for nhanes: ' , nhanes_over1.foodsec.median())\n"
   ]
  },
  {
   "cell_type": "markdown",
   "metadata": {},
   "source": [
    "#### It does not appear that newcvd dataset are being affected by food availability compared with the general population (NHANES) that has also been admitted to the hospital in the year of the study. \n",
    "However, food security may be related to hospital readmission in a similar way in both datasets. A better analysis may examine overall NHANES dataset, including participants who had no hospitalizations, to the NHANES subset we have here (those who had 2 or more hospital admissions). "
   ]
  },
  {
   "cell_type": "code",
   "execution_count": 76,
   "metadata": {},
   "outputs": [
    {
     "data": {
      "image/png": "[encoded data removed]",
      "text/plain": [
       "<Figure size 432x288 with 1 Axes>"
      ]
     },
     "metadata": {
      "needs_background": "light"
     },
     "output_type": "display_data"
    },
    {
     "data": {
      "image/png": "[encoded data removed]",
      "text/plain": [
       "<Figure size 432x288 with 1 Axes>"
      ]
     },
     "metadata": {
      "needs_background": "light"
     },
     "output_type": "display_data"
    },
    {
     "data": {
      "image/png": "[encoded data removed]",
      "text/plain": [
       "<Figure size 432x288 with 1 Axes>"
      ]
     },
     "metadata": {
      "needs_background": "light"
     },
     "output_type": "display_data"
    },
    {
     "data": {
      "image/png": "[encoded data removed]",
      "text/plain": [
       "<Figure size 432x288 with 1 Axes>"
      ]
     },
     "metadata": {
      "needs_background": "light"
     },
     "output_type": "display_data"
    }
   ],
   "source": [
    "#create scatterplots looking at data for numhosp=1 and numhosp>1 for newcvd and nhanes\n",
    "# age and blood labs/physical calcs, depr_score and blood labs/calcs,\n",
    "\n",
    "cvd_over1 = newcvd.loc[newcvd.numhosp>1]\n",
    "cvd1stay=newcvd.loc[newcvd.numhosp==1]\n",
    "nhanes_over1=nhanes.loc[nhanes.numhosp>1]\n",
    "nhanes1stay=nhanes.loc[nhanes.numhosp==1]\n",
    "\n",
    "sns.scatterplot(data = cvd_over1, x='bmi', y='tg', color=color,hue='numhosp')\n",
    "plt.title('newcvd: Triglycerides by Body Mass Index (1 or more hospital readmissions)')\n",
    "plt.show()\n",
    "\n",
    "\n",
    "sns.scatterplot(data = nhanes_over1, x='bmi', y='hdl', color=color, hue='numhosp')\n",
    "plt.title('nhanes: Triglycerides by Body Mass Index (1 or more hospital readmissions)')\n",
    "plt.show()\n",
    "\n",
    "\n",
    "sns.scatterplot(data = cvd1stay, x='bmi', y='tg', color=color)\n",
    "plt.title('newcvd: Triglycerides by Body Mass Index (1 hospital stay (no readmissions))')\n",
    "plt.show()\n",
    "\n",
    "\n",
    "plt.title('nhanes: Triglycerides by Body Mass Index (1 hospital stay (no readmissions))')\n",
    "sns.scatterplot(data = nhanes1stay, x='bmi', y='tg', color=color)\n",
    "plt.show()"
   ]
  }
 ],
 "metadata": {
  "kernelspec": {
   "display_name": "Python 3",
   "language": "python",
   "name": "python3"
  },
  "language_info": {
   "codemirror_mode": {
    "name": "ipython",
    "version": 3
   },
   "file_extension": ".py",
   "mimetype": "text/x-python",
   "name": "python",
   "nbconvert_exporter": "python",
   "pygments_lexer": "ipython3",
   "version": "3.7.4"
  }
 },
 "nbformat": 4,
 "nbformat_minor": 2
}
