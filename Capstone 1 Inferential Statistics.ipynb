{
 "cells": [
  {
   "cell_type": "code",
   "execution_count": 2,
   "metadata": {},
   "outputs": [],
   "source": [
    "import pandas as pd\n",
    "import numpy as np\n",
    "import matplotlib.pyplot as plt\n",
    "import seaborn as sns\n"
   ]
  },
  {
   "cell_type": "code",
   "execution_count": 3,
   "metadata": {},
   "outputs": [],
   "source": [
    "df = pd.read_csv('nhanes.csv')"
   ]
  },
  {
   "cell_type": "code",
   "execution_count": 4,
   "metadata": {},
   "outputs": [
    {
     "name": "stdout",
     "output_type": "stream",
     "text": [
      "False    5929\n",
      "True       63\n",
      "Name: new_cvd, dtype: int64\n"
     ]
    },
    {
     "data": {
      "text/plain": [
       "False    5788\n",
       "True      204\n",
       "Name: readmission, dtype: int64"
      ]
     },
     "execution_count": 4,
     "metadata": {},
     "output_type": "execute_result"
    }
   ],
   "source": [
    "# Creating column indicating participants with onset of cvd at their current age at time of the study\n",
    "df['new_cvd'] = df['cvd_onset_age'] == df['age']\n",
    "df['new_cvd']\n",
    "print(df['new_cvd'].value_counts())\n",
    "\n",
    "#Creating column indicating participants with >1 overnight hospital stay in the current year.\n",
    "df['readmission'] = df['numhosp'] > 1\n",
    "df['readmission'].value_counts()"
   ]
  },
  {
   "cell_type": "code",
   "execution_count": 5,
   "metadata": {},
   "outputs": [
    {
     "data": {
      "text/html": [
       "<div>\n",
       "<style scoped>\n",
       "    .dataframe tbody tr th:only-of-type {\n",
       "        vertical-align: middle;\n",
       "    }\n",
       "\n",
       "    .dataframe tbody tr th {\n",
       "        vertical-align: top;\n",
       "    }\n",
       "\n",
       "    .dataframe thead th {\n",
       "        text-align: right;\n",
       "    }\n",
       "</style>\n",
       "<table border=\"1\" class=\"dataframe\">\n",
       "  <thead>\n",
       "    <tr style=\"text-align: right;\">\n",
       "      <th></th>\n",
       "      <th>new_cvd</th>\n",
       "      <th>seqn</th>\n",
       "      <th>age</th>\n",
       "      <th>gender</th>\n",
       "      <th>ethnicity</th>\n",
       "      <th>lang_hisp</th>\n",
       "      <th>lang_nhb_nhw</th>\n",
       "      <th>lang_asian</th>\n",
       "      <th>foodsec</th>\n",
       "      <th>depr1</th>\n",
       "      <th>...</th>\n",
       "      <th>glucose</th>\n",
       "      <th>hdl</th>\n",
       "      <th>tg</th>\n",
       "      <th>ldl</th>\n",
       "      <th>tchol</th>\n",
       "      <th>hgba1c</th>\n",
       "      <th>bmi</th>\n",
       "      <th>bodyfatpct</th>\n",
       "      <th>numhosp</th>\n",
       "      <th>readmission</th>\n",
       "    </tr>\n",
       "  </thead>\n",
       "  <tbody>\n",
       "    <tr>\n",
       "      <td>0</td>\n",
       "      <td>False</td>\n",
       "      <td>83732.0</td>\n",
       "      <td>62.0</td>\n",
       "      <td>0.0</td>\n",
       "      <td>white</td>\n",
       "      <td>NaN</td>\n",
       "      <td>1.0</td>\n",
       "      <td>NaN</td>\n",
       "      <td>3.0</td>\n",
       "      <td>0.0</td>\n",
       "      <td>...</td>\n",
       "      <td>NaN</td>\n",
       "      <td>46.0</td>\n",
       "      <td>NaN</td>\n",
       "      <td>NaN</td>\n",
       "      <td>173.0</td>\n",
       "      <td>7.0</td>\n",
       "      <td>27.8</td>\n",
       "      <td>NaN</td>\n",
       "      <td>NaN</td>\n",
       "      <td>False</td>\n",
       "    </tr>\n",
       "    <tr>\n",
       "      <td>1</td>\n",
       "      <td>False</td>\n",
       "      <td>83733.0</td>\n",
       "      <td>53.0</td>\n",
       "      <td>0.0</td>\n",
       "      <td>white</td>\n",
       "      <td>NaN</td>\n",
       "      <td>NaN</td>\n",
       "      <td>NaN</td>\n",
       "      <td>3.0</td>\n",
       "      <td>1.0</td>\n",
       "      <td>...</td>\n",
       "      <td>101.0</td>\n",
       "      <td>63.0</td>\n",
       "      <td>147.0</td>\n",
       "      <td>173.0</td>\n",
       "      <td>265.0</td>\n",
       "      <td>5.5</td>\n",
       "      <td>30.8</td>\n",
       "      <td>30.0</td>\n",
       "      <td>NaN</td>\n",
       "      <td>False</td>\n",
       "    </tr>\n",
       "    <tr>\n",
       "      <td>2</td>\n",
       "      <td>False</td>\n",
       "      <td>83734.0</td>\n",
       "      <td>78.0</td>\n",
       "      <td>0.0</td>\n",
       "      <td>white</td>\n",
       "      <td>NaN</td>\n",
       "      <td>1.0</td>\n",
       "      <td>NaN</td>\n",
       "      <td>3.0</td>\n",
       "      <td>0.0</td>\n",
       "      <td>...</td>\n",
       "      <td>84.0</td>\n",
       "      <td>30.0</td>\n",
       "      <td>269.0</td>\n",
       "      <td>145.0</td>\n",
       "      <td>229.0</td>\n",
       "      <td>5.8</td>\n",
       "      <td>28.8</td>\n",
       "      <td>NaN</td>\n",
       "      <td>NaN</td>\n",
       "      <td>False</td>\n",
       "    </tr>\n",
       "    <tr>\n",
       "      <td>3</td>\n",
       "      <td>False</td>\n",
       "      <td>83735.0</td>\n",
       "      <td>56.0</td>\n",
       "      <td>1.0</td>\n",
       "      <td>white</td>\n",
       "      <td>NaN</td>\n",
       "      <td>1.0</td>\n",
       "      <td>NaN</td>\n",
       "      <td>3.0</td>\n",
       "      <td>1.0</td>\n",
       "      <td>...</td>\n",
       "      <td>NaN</td>\n",
       "      <td>61.0</td>\n",
       "      <td>NaN</td>\n",
       "      <td>NaN</td>\n",
       "      <td>174.0</td>\n",
       "      <td>5.6</td>\n",
       "      <td>42.4</td>\n",
       "      <td>50.9</td>\n",
       "      <td>NaN</td>\n",
       "      <td>False</td>\n",
       "    </tr>\n",
       "    <tr>\n",
       "      <td>4</td>\n",
       "      <td>False</td>\n",
       "      <td>83736.0</td>\n",
       "      <td>42.0</td>\n",
       "      <td>1.0</td>\n",
       "      <td>black</td>\n",
       "      <td>NaN</td>\n",
       "      <td>1.0</td>\n",
       "      <td>NaN</td>\n",
       "      <td>2.0</td>\n",
       "      <td>1.0</td>\n",
       "      <td>...</td>\n",
       "      <td>84.0</td>\n",
       "      <td>53.0</td>\n",
       "      <td>47.0</td>\n",
       "      <td>142.0</td>\n",
       "      <td>204.0</td>\n",
       "      <td>5.6</td>\n",
       "      <td>20.3</td>\n",
       "      <td>NaN</td>\n",
       "      <td>NaN</td>\n",
       "      <td>False</td>\n",
       "    </tr>\n",
       "  </tbody>\n",
       "</table>\n",
       "<p>5 rows × 44 columns</p>\n",
       "</div>"
      ],
      "text/plain": [
       "   new_cvd     seqn   age  gender ethnicity lang_hisp  lang_nhb_nhw  \\\n",
       "0    False  83732.0  62.0     0.0     white       NaN           1.0   \n",
       "1    False  83733.0  53.0     0.0     white       NaN           NaN   \n",
       "2    False  83734.0  78.0     0.0     white       NaN           1.0   \n",
       "3    False  83735.0  56.0     1.0     white       NaN           1.0   \n",
       "4    False  83736.0  42.0     1.0     black       NaN           1.0   \n",
       "\n",
       "  lang_asian  foodsec  depr1  ...  glucose   hdl     tg    ldl  tchol  hgba1c  \\\n",
       "0        NaN      3.0    0.0  ...      NaN  46.0    NaN    NaN  173.0     7.0   \n",
       "1        NaN      3.0    1.0  ...    101.0  63.0  147.0  173.0  265.0     5.5   \n",
       "2        NaN      3.0    0.0  ...     84.0  30.0  269.0  145.0  229.0     5.8   \n",
       "3        NaN      3.0    1.0  ...      NaN  61.0    NaN    NaN  174.0     5.6   \n",
       "4        NaN      2.0    1.0  ...     84.0  53.0   47.0  142.0  204.0     5.6   \n",
       "\n",
       "    bmi  bodyfatpct  numhosp  readmission  \n",
       "0  27.8         NaN      NaN        False  \n",
       "1  30.8        30.0      NaN        False  \n",
       "2  28.8         NaN      NaN        False  \n",
       "3  42.4        50.9      NaN        False  \n",
       "4  20.3         NaN      NaN        False  \n",
       "\n",
       "[5 rows x 44 columns]"
      ]
     },
     "execution_count": 5,
     "metadata": {},
     "output_type": "execute_result"
    }
   ],
   "source": [
    "front = df['new_cvd']\n",
    "df.drop(labels=['new_cvd'], axis=1,inplace = True)\n",
    "df.insert(0, 'new_cvd', front)\n",
    "df.head()"
   ]
  },
  {
   "cell_type": "code",
   "execution_count": 6,
   "metadata": {},
   "outputs": [
    {
     "data": {
      "text/plain": [
       "False    0.965955\n",
       "True     0.034045\n",
       "Name: readmission, dtype: float64"
      ]
     },
     "execution_count": 6,
     "metadata": {},
     "output_type": "execute_result"
    }
   ],
   "source": [
    "\n",
    "percent_readmissions = df.readmission.value_counts()/len(df)\n",
    "percent_readmissions"
   ]
  },
  {
   "cell_type": "markdown",
   "metadata": {},
   "source": [
    "About 1% of the participants of this NHANES survey had new onset cardiovascular disease."
   ]
  },
  {
   "cell_type": "markdown",
   "metadata": {},
   "source": [
    "Null Hypothesis: The percent of new onset cvd participants who had 2 or more hospitalizations will be the same as that for  participants who were not diagnosed with CVD during the year of study.\n",
    "Alternative Hypothesis: The percent of new onset CVD participants who had 2 or more hospitalizations will be higher than that of nhanes participants who were not diagnosed with CVD during the year of the study."
   ]
  },
  {
   "cell_type": "code",
   "execution_count": 7,
   "metadata": {},
   "outputs": [],
   "source": [
    "df['newcvd_readm'] = (df['new_cvd'] == True) & (df['numhosp']>1)\n",
    "df['non_newcvd_readm'] = (df['new_cvd']== False) & (df['numhosp']>1)\n",
    "df['readmissions'] = df['numhosp'] > 1\n"
   ]
  },
  {
   "cell_type": "code",
   "execution_count": 8,
   "metadata": {
    "scrolled": false
   },
   "outputs": [
    {
     "name": "stdout",
     "output_type": "stream",
     "text": [
      "Number of participants with new onset CVD and 2 or more hospital stays:  14\n",
      "Number of new onset CVD participants:  63\n",
      "Number of participants without new onset CVD and 2 or more hospital stays: 190\n",
      "Number of participants without new onset CVD:  5929\n",
      "Percent of new onset CVD participants with 2 or more hospital stays:  22 %.\n",
      "Percent of participants without new onset CVD with 2 or more hospital stays: 3 %.\n"
     ]
    }
   ],
   "source": [
    "pd.set_option('display.max_rows', None)\n",
    "newcvd_readm_total = len(df[(df.newcvd_readm == True)])\n",
    "newcvd_total = len(df[(df.new_cvd == True)])\n",
    "non_newcvd_total = len(df[(df.new_cvd == False)])\n",
    "non_newcvd_readm_total = len(df[(df.non_newcvd_readm == True)])\n",
    "\n",
    "print('Number of participants with new onset CVD and 2 or more hospital stays: ', newcvd_readm_total )\n",
    "print('Number of new onset CVD participants: ', newcvd_total)\n",
    "print('Number of participants without new onset CVD and 2 or more hospital stays:', non_newcvd_readm_total)\n",
    "print('Number of participants without new onset CVD: ', non_newcvd_total )\n",
    "print('Percent of new onset CVD participants with 2 or more hospital stays: ', int((newcvd_readm_total/newcvd_total)*100), '%.')\n",
    "print('Percent of participants without new onset CVD with 2 or more hospital stays:', int((non_newcvd_readm_total/non_newcvd_total)*100), '%.')"
   ]
  },
  {
   "cell_type": "code",
   "execution_count": 12,
   "metadata": {},
   "outputs": [],
   "source": [
    "# calculate mean hospital stays for cvd\n",
    "newcvd_mean_readm = ((df['new_cvd'] == True) & (df['numhosp']>1)).mean\n",
    "non_newcvd_mean_readm = ((df['new_cvd']== False) & (df['numhosp']>1)).mean\n"
   ]
  },
  {
   "cell_type": "code",
   "execution_count": null,
   "metadata": {},
   "outputs": [],
   "source": []
  }
 ],
 "metadata": {
  "kernelspec": {
   "display_name": "Python 3",
   "language": "python",
   "name": "python3"
  },
  "language_info": {
   "codemirror_mode": {
    "name": "ipython",
    "version": 3
   },
   "file_extension": ".py",
   "mimetype": "text/x-python",
   "name": "python",
   "nbconvert_exporter": "python",
   "pygments_lexer": "ipython3",
   "version": "3.7.4"
  }
 },
 "nbformat": 4,
 "nbformat_minor": 2
}
