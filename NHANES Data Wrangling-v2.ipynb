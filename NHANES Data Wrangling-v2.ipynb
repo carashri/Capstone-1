{
 "cells": [
  {
   "cell_type": "markdown",
   "metadata": {},
   "source": [
    "## NHANES 2015-2016 Data Wrangling\n",
    "\n",
    "Our objective is to identify ways to reduce hospital readmission rates for our client. \n",
    "\n",
    "The first step in completing this project is data collection and cleaning. The following are the steps that were taken.\n",
    "\n",
    "1. Downloaded the datasets of interest from the Centers for Disease Control and Prevention website: https://wwwn.cdc.gov/nchs/nhanes/ContinuousNhanes/Default.aspx?BeginYear=2015.\n",
    "\n",
    "2. Imported pandas and numpy into the Python notebook, read the SAS files into pandas dataframes, and merged the datasets of interest.\n",
    "\n",
    "\n",
    "3. Explored the data, taking note of null values and outliers and removing if/when needed:\n",
    "    - Looked at the size of the dataset and types of values within the different columns.\n",
    "    \n",
    "    - Made the dataset smaller by creating a new dataset only containing columns of main interest.\n",
    "    \n",
    "    - Null values and Outliers:\n",
    "        - Observed the data summaries and also created boxplots and histograms of data. \n",
    "        \n",
    "        - Null values: Many of the columns contain null values ('NaN'). We kept these values in the dataset, because not all questions in the questionnaires and all laboratory values were taken from all individuals in the study. Numerical values that were similar to null (i.e., where response was 'refused' or 'don't know', were replaced with 'NaN'. Categorical variables (represented in the dataset by numbers) with the responses 'refused' and 'don't know' were left alone for now.\n",
    "        - Outliers:  Since the dataset is relatively small in regard to participants who have had >1 overnight hospital stay in the last year, and also in regard to participants with cardiovascular disease, we left all other outliers in the dataset for now.\n"
   ]
  },
  {
   "cell_type": "markdown",
   "metadata": {},
   "source": [
    "### Importing pandas library (for data manipulation and analysis)"
   ]
  },
  {
   "cell_type": "code",
   "execution_count": 1,
   "metadata": {},
   "outputs": [],
   "source": [
    "import pandas as pd\n",
    "import numpy as np\n",
    "import matplotlib.pyplot as plt"
   ]
  },
  {
   "cell_type": "markdown",
   "metadata": {},
   "source": [
    "### We imported the SAS data files into pandas dataframes, then merged the dataframes together.\n"
   ]
  },
  {
   "cell_type": "code",
   "execution_count": 2,
   "metadata": {},
   "outputs": [
    {
     "data": {
      "text/plain": [
       "pandas.core.frame.DataFrame"
      ]
     },
     "execution_count": 2,
     "metadata": {},
     "output_type": "execute_result"
    }
   ],
   "source": [
    "\n",
    "df_acq = pd.read_sas('NHANES/ACQ_I_acculturation.XPT')\n",
    "df_bmx = pd.read_sas('NHANES/BMX_I_body_measures.xpt')\n",
    "df_demo = pd.read_sas('NHANES/DEMO_I_demographics.XPT')\n",
    "df_diq = pd.read_sas('NHANES/DIQ_I_diabetes.xpt')\n",
    "df_dpq = pd.read_sas('NHANES/DPQ_I_depression.xpt')\n",
    "df_dxx = pd.read_sas('NHANES/DXX_I_dexa.xpt')\n",
    "df_fsq = pd.read_sas('NHANES/FSQ_I_food_security.xpt')\n",
    "df_huq = pd.read_sas('NHANES/HUQ_I_hospitalization.XPT')\n",
    "df_hiq = pd.read_sas('NHANES/HIQ_I_health_insurance.xpt')\n",
    "df_inq = pd.read_sas('NHANES/INQ_I_income.xpt')\n",
    "df_mcq = pd.read_sas('NHANES/MCQ_I_medical_conditions.XPT')\n",
    "\n",
    "\n",
    "#Merging the dataframes together into one large dataframe\n",
    "df_full = df_acq.merge(df_bmx, on='SEQN', how='outer').merge(df_demo, on='SEQN', how='outer')\\\n",
    ".merge(df_diq, on='SEQN', how='outer').merge(df_dpq, on='SEQN', how ='outer') \\\n",
    ".merge(df_dxx, on='SEQN', how='outer').merge(df_fsq, on='SEQN', how='outer').merge(df_huq, on='SEQN', how='outer')\\\n",
    ".merge(df_hiq, on='SEQN', how='outer').merge(df_inq, on='SEQN', how='outer').merge(df_mcq, on='SEQN', how='outer')\n",
    "\n",
    "#Confirming pandas dataframe has been created\n",
    "type(df_full)\n"
   ]
  },
  {
   "cell_type": "code",
   "execution_count": 3,
   "metadata": {},
   "outputs": [
    {
     "name": "stdout",
     "output_type": "stream",
     "text": [
      "      SEQN  ACD011A  ACD011B  ACD011C  ACD040  ACD110  BMDSTATS  BMXWT  BMIWT  \\\n",
      "0  83732.0      1.0      NaN      NaN     NaN     NaN       1.0   94.8    NaN   \n",
      "1  83733.0      NaN      NaN      9.0     NaN     NaN       1.0   90.4    NaN   \n",
      "2  83734.0      1.0      NaN      NaN     NaN     NaN       1.0   83.4    NaN   \n",
      "3  83735.0      1.0      NaN      NaN     NaN     NaN       1.0  109.8    NaN   \n",
      "4  83736.0      1.0      NaN      NaN     NaN     NaN       3.0   55.2    NaN   \n",
      "\n",
      "   BMXRECUM  ...  MCQ300C  MCQ365A  MCQ365B  MCQ365C  MCQ365D  MCQ370A  \\\n",
      "0       NaN  ...      1.0      2.0      1.0      2.0      2.0      1.0   \n",
      "1       NaN  ...      1.0      2.0      2.0      2.0      2.0      2.0   \n",
      "2       NaN  ...      2.0      2.0      1.0      1.0      1.0      1.0   \n",
      "3       NaN  ...      9.0      1.0      1.0      2.0      1.0      1.0   \n",
      "4       NaN  ...      9.0      2.0      2.0      2.0      2.0      2.0   \n",
      "\n",
      "   MCQ370B  MCQ370C  MCQ370D  OSQ230  \n",
      "0      1.0      2.0      2.0     1.0  \n",
      "1      2.0      2.0      2.0     2.0  \n",
      "2      2.0      2.0      1.0     2.0  \n",
      "3      2.0      1.0      1.0     2.0  \n",
      "4      2.0      2.0      2.0     2.0  \n",
      "\n",
      "[5 rows x 409 columns]\n",
      "         SEQN  ACD011A  ACD011B  ACD011C  ACD040  ACD110  BMDSTATS  BMXWT  \\\n",
      "9966  92581.0      NaN      NaN      NaN     NaN     NaN       NaN    NaN   \n",
      "9967  92963.0      NaN      NaN      NaN     NaN     NaN       NaN    NaN   \n",
      "9968  93225.0      NaN      NaN      NaN     NaN     NaN       NaN    NaN   \n",
      "9969  93362.0      NaN      NaN      NaN     NaN     NaN       NaN    NaN   \n",
      "9970  93439.0      NaN      NaN      NaN     NaN     NaN       NaN    NaN   \n",
      "\n",
      "      BMIWT  BMXRECUM  ...  MCQ300C  MCQ365A  MCQ365B  MCQ365C  MCQ365D  \\\n",
      "9966    NaN       NaN  ...      NaN      NaN      NaN      NaN      NaN   \n",
      "9967    NaN       NaN  ...      NaN      NaN      NaN      NaN      NaN   \n",
      "9968    NaN       NaN  ...      NaN      NaN      NaN      NaN      NaN   \n",
      "9969    NaN       NaN  ...      NaN      NaN      NaN      NaN      NaN   \n",
      "9970    NaN       NaN  ...      NaN      NaN      NaN      NaN      NaN   \n",
      "\n",
      "      MCQ370A  MCQ370B  MCQ370C  MCQ370D  OSQ230  \n",
      "9966      NaN      NaN      NaN      NaN     NaN  \n",
      "9967      NaN      NaN      NaN      NaN     NaN  \n",
      "9968      NaN      NaN      NaN      NaN     NaN  \n",
      "9969      NaN      NaN      NaN      NaN     NaN  \n",
      "9970      NaN      NaN      NaN      NaN     NaN  \n",
      "\n",
      "[5 rows x 409 columns]\n"
     ]
    }
   ],
   "source": [
    "# Exploring the dataset\n",
    "print(df_full.head())\n",
    "print(df_full.tail())"
   ]
  },
  {
   "cell_type": "code",
   "execution_count": 4,
   "metadata": {},
   "outputs": [
    {
     "data": {
      "text/plain": [
       "Index(['SEQN', 'ACD011A', 'ACD011B', 'ACD011C', 'ACD040', 'ACD110', 'BMDSTATS',\n",
       "       'BMXWT', 'BMIWT', 'BMXRECUM',\n",
       "       ...\n",
       "       'MCQ300C', 'MCQ365A', 'MCQ365B', 'MCQ365C', 'MCQ365D', 'MCQ370A',\n",
       "       'MCQ370B', 'MCQ370C', 'MCQ370D', 'OSQ230'],\n",
       "      dtype='object', length=409)"
      ]
     },
     "execution_count": 4,
     "metadata": {},
     "output_type": "execute_result"
    }
   ],
   "source": [
    "df_full.columns"
   ]
  },
  {
   "cell_type": "code",
   "execution_count": 5,
   "metadata": {},
   "outputs": [
    {
     "name": "stdout",
     "output_type": "stream",
     "text": [
      "<class 'pandas.core.frame.DataFrame'>\n",
      "Int64Index: 9971 entries, 0 to 9970\n",
      "Columns: 409 entries, SEQN to OSQ230\n",
      "dtypes: float64(409)\n",
      "memory usage: 31.2 MB\n"
     ]
    }
   ],
   "source": [
    "df_full.info()"
   ]
  },
  {
   "cell_type": "code",
   "execution_count": 6,
   "metadata": {
    "scrolled": true
   },
   "outputs": [
    {
     "data": {
      "text/plain": [
       "Index(['SEQN', 'RIAGENDR', 'RIDAGEYR', 'MCQ160B', 'MCQ180B', 'MCQ160C',\n",
       "       'MCQ180C', 'MCQ160D', 'MCQ180D', 'MCQ160E', 'MCQ180E', 'MCQ160F',\n",
       "       'MCQ180F', 'HUQ071', 'HUD080', 'ACD040'],\n",
       "      dtype='object')"
      ]
     },
     "execution_count": 6,
     "metadata": {},
     "output_type": "execute_result"
    }
   ],
   "source": [
    "#selecting a few columns of interest. \n",
    "#SEQN = study participant ID\n",
    "#RIAGENDR = participant's gender; \n",
    "#RIDAGEYR = Current age of participant;\n",
    "# MCQ160b = 'Have you ever been told you have congestive heart failure? (Y/N); \n",
    "# MCQ180b = Age when told you had heart failure; \n",
    "# MCQ160c = 'Have you ever been told you had coronary heart disease?'(Y/N)\n",
    "# MCQ180c = Age of onset of coronary heart disease\n",
    "# MCQ160d = 'Have you ever been told you have angina/angina pectoris? (Y/N); \n",
    "# MCQ180d = Age of onset of angina/angina pectoris \n",
    "# MCQ160e = 'Ever told you had a heart attack'(Y/N)\n",
    "# MCQ180e = Age when told you had a heart attack\n",
    "# MCQ160f = 'Have you ever been told you had a stroke?'(Y/N)\n",
    "# MCQ180f = Age when told you had a stroke\n",
    "\n",
    "# HUD080 = Number of hospital stays in the last year (participant answered 1 or more hospital stays to this question)\n",
    "\n",
    "df_selected = df_full[['SEQN', 'RIAGENDR', 'RIDAGEYR', 'MCQ160B', 'MCQ180B', 'MCQ160C', 'MCQ180C','MCQ160D',\\\n",
    "                       'MCQ180D', 'MCQ160E', 'MCQ180E', 'MCQ160F', 'MCQ180F', 'HUQ071', 'HUD080', 'ACD040']]\n",
    "df_selected.columns\n"
   ]
  },
  {
   "cell_type": "code",
   "execution_count": 7,
   "metadata": {},
   "outputs": [
    {
     "name": "stdout",
     "output_type": "stream",
     "text": [
      "<class 'pandas.core.frame.DataFrame'>\n",
      "Int64Index: 9971 entries, 0 to 9970\n",
      "Data columns (total 16 columns):\n",
      "SEQN        9971 non-null float64\n",
      "RIAGENDR    9971 non-null float64\n",
      "RIDAGEYR    9971 non-null float64\n",
      "MCQ160B     5719 non-null float64\n",
      "MCQ180B     214 non-null float64\n",
      "MCQ160C     5719 non-null float64\n",
      "MCQ180C     244 non-null float64\n",
      "MCQ160D     5719 non-null float64\n",
      "MCQ180D     133 non-null float64\n",
      "MCQ160E     5719 non-null float64\n",
      "MCQ180E     251 non-null float64\n",
      "MCQ160F     5719 non-null float64\n",
      "MCQ180F     209 non-null float64\n",
      "HUQ071      9971 non-null float64\n",
      "HUD080      869 non-null float64\n",
      "ACD040      2882 non-null float64\n",
      "dtypes: float64(16)\n",
      "memory usage: 1.3 MB\n"
     ]
    }
   ],
   "source": [
    "#Viewing data types and count of non-null elements for selected columns.\n",
    "df_selected.info()\n"
   ]
  },
  {
   "cell_type": "code",
   "execution_count": 8,
   "metadata": {},
   "outputs": [],
   "source": [
    "#Decided to not remove null values at this time, since all questions do not apply to all study participants of interest"
   ]
  },
  {
   "cell_type": "code",
   "execution_count": 9,
   "metadata": {},
   "outputs": [
    {
     "data": {
      "text/html": [
       "<div>\n",
       "<style scoped>\n",
       "    .dataframe tbody tr th:only-of-type {\n",
       "        vertical-align: middle;\n",
       "    }\n",
       "\n",
       "    .dataframe tbody tr th {\n",
       "        vertical-align: top;\n",
       "    }\n",
       "\n",
       "    .dataframe thead th {\n",
       "        text-align: right;\n",
       "    }\n",
       "</style>\n",
       "<table border=\"1\" class=\"dataframe\">\n",
       "  <thead>\n",
       "    <tr style=\"text-align: right;\">\n",
       "      <th></th>\n",
       "      <th>SEQN</th>\n",
       "      <th>RIAGENDR</th>\n",
       "      <th>RIDAGEYR</th>\n",
       "      <th>MCQ160B</th>\n",
       "      <th>MCQ180B</th>\n",
       "      <th>MCQ160C</th>\n",
       "      <th>MCQ180C</th>\n",
       "      <th>MCQ160D</th>\n",
       "      <th>MCQ180D</th>\n",
       "      <th>MCQ160E</th>\n",
       "      <th>MCQ180E</th>\n",
       "      <th>MCQ160F</th>\n",
       "      <th>MCQ180F</th>\n",
       "      <th>HUQ071</th>\n",
       "      <th>HUD080</th>\n",
       "      <th>ACD040</th>\n",
       "    </tr>\n",
       "  </thead>\n",
       "  <tbody>\n",
       "    <tr>\n",
       "      <td>count</td>\n",
       "      <td>9971.000000</td>\n",
       "      <td>9971.000000</td>\n",
       "      <td>9.971000e+03</td>\n",
       "      <td>5719.000000</td>\n",
       "      <td>2.140000e+02</td>\n",
       "      <td>5719.000000</td>\n",
       "      <td>244.000000</td>\n",
       "      <td>5719.000000</td>\n",
       "      <td>133.000000</td>\n",
       "      <td>5719.000000</td>\n",
       "      <td>251.000000</td>\n",
       "      <td>5719.000000</td>\n",
       "      <td>209.000000</td>\n",
       "      <td>9971.000000</td>\n",
       "      <td>869.000000</td>\n",
       "      <td>2882.000000</td>\n",
       "    </tr>\n",
       "    <tr>\n",
       "      <td>mean</td>\n",
       "      <td>88717.000000</td>\n",
       "      <td>1.509377</td>\n",
       "      <td>3.189941e+01</td>\n",
       "      <td>1.976045</td>\n",
       "      <td>2.288393e+03</td>\n",
       "      <td>1.989159</td>\n",
       "      <td>2105.020492</td>\n",
       "      <td>1.998426</td>\n",
       "      <td>1385.278195</td>\n",
       "      <td>1.967127</td>\n",
       "      <td>2047.545817</td>\n",
       "      <td>1.969575</td>\n",
       "      <td>1968.540670</td>\n",
       "      <td>1.915655</td>\n",
       "      <td>116.545455</td>\n",
       "      <td>2.920194</td>\n",
       "    </tr>\n",
       "    <tr>\n",
       "      <td>std</td>\n",
       "      <td>2878.524101</td>\n",
       "      <td>0.499937</td>\n",
       "      <td>2.476883e+01</td>\n",
       "      <td>0.362099</td>\n",
       "      <td>1.452350e+04</td>\n",
       "      <td>0.515131</td>\n",
       "      <td>14188.418440</td>\n",
       "      <td>0.416305</td>\n",
       "      <td>10938.594615</td>\n",
       "      <td>0.346324</td>\n",
       "      <td>13992.501625</td>\n",
       "      <td>0.280130</td>\n",
       "      <td>13726.376453</td>\n",
       "      <td>0.315762</td>\n",
       "      <td>3392.183886</td>\n",
       "      <td>1.498078</td>\n",
       "    </tr>\n",
       "    <tr>\n",
       "      <td>min</td>\n",
       "      <td>83732.000000</td>\n",
       "      <td>1.000000</td>\n",
       "      <td>5.397605e-79</td>\n",
       "      <td>1.000000</td>\n",
       "      <td>5.397605e-79</td>\n",
       "      <td>1.000000</td>\n",
       "      <td>10.000000</td>\n",
       "      <td>1.000000</td>\n",
       "      <td>10.000000</td>\n",
       "      <td>1.000000</td>\n",
       "      <td>20.000000</td>\n",
       "      <td>1.000000</td>\n",
       "      <td>2.000000</td>\n",
       "      <td>1.000000</td>\n",
       "      <td>1.000000</td>\n",
       "      <td>1.000000</td>\n",
       "    </tr>\n",
       "    <tr>\n",
       "      <td>25%</td>\n",
       "      <td>86224.500000</td>\n",
       "      <td>1.000000</td>\n",
       "      <td>9.000000e+00</td>\n",
       "      <td>2.000000</td>\n",
       "      <td>4.900000e+01</td>\n",
       "      <td>2.000000</td>\n",
       "      <td>49.750000</td>\n",
       "      <td>2.000000</td>\n",
       "      <td>41.000000</td>\n",
       "      <td>2.000000</td>\n",
       "      <td>48.500000</td>\n",
       "      <td>2.000000</td>\n",
       "      <td>47.000000</td>\n",
       "      <td>2.000000</td>\n",
       "      <td>1.000000</td>\n",
       "      <td>1.000000</td>\n",
       "    </tr>\n",
       "    <tr>\n",
       "      <td>50%</td>\n",
       "      <td>88717.000000</td>\n",
       "      <td>2.000000</td>\n",
       "      <td>2.700000e+01</td>\n",
       "      <td>2.000000</td>\n",
       "      <td>5.800000e+01</td>\n",
       "      <td>2.000000</td>\n",
       "      <td>58.000000</td>\n",
       "      <td>2.000000</td>\n",
       "      <td>50.000000</td>\n",
       "      <td>2.000000</td>\n",
       "      <td>57.000000</td>\n",
       "      <td>2.000000</td>\n",
       "      <td>59.000000</td>\n",
       "      <td>2.000000</td>\n",
       "      <td>1.000000</td>\n",
       "      <td>3.000000</td>\n",
       "    </tr>\n",
       "    <tr>\n",
       "      <td>75%</td>\n",
       "      <td>91209.500000</td>\n",
       "      <td>2.000000</td>\n",
       "      <td>5.300000e+01</td>\n",
       "      <td>2.000000</td>\n",
       "      <td>6.800000e+01</td>\n",
       "      <td>2.000000</td>\n",
       "      <td>67.000000</td>\n",
       "      <td>2.000000</td>\n",
       "      <td>58.000000</td>\n",
       "      <td>2.000000</td>\n",
       "      <td>66.000000</td>\n",
       "      <td>2.000000</td>\n",
       "      <td>69.000000</td>\n",
       "      <td>2.000000</td>\n",
       "      <td>2.000000</td>\n",
       "      <td>4.000000</td>\n",
       "    </tr>\n",
       "    <tr>\n",
       "      <td>max</td>\n",
       "      <td>93702.000000</td>\n",
       "      <td>2.000000</td>\n",
       "      <td>8.000000e+01</td>\n",
       "      <td>9.000000</td>\n",
       "      <td>9.999900e+04</td>\n",
       "      <td>9.000000</td>\n",
       "      <td>99999.000000</td>\n",
       "      <td>9.000000</td>\n",
       "      <td>99999.000000</td>\n",
       "      <td>9.000000</td>\n",
       "      <td>99999.000000</td>\n",
       "      <td>9.000000</td>\n",
       "      <td>99999.000000</td>\n",
       "      <td>9.000000</td>\n",
       "      <td>99999.000000</td>\n",
       "      <td>9.000000</td>\n",
       "    </tr>\n",
       "  </tbody>\n",
       "</table>\n",
       "</div>"
      ],
      "text/plain": [
       "               SEQN     RIAGENDR      RIDAGEYR      MCQ160B       MCQ180B  \\\n",
       "count   9971.000000  9971.000000  9.971000e+03  5719.000000  2.140000e+02   \n",
       "mean   88717.000000     1.509377  3.189941e+01     1.976045  2.288393e+03   \n",
       "std     2878.524101     0.499937  2.476883e+01     0.362099  1.452350e+04   \n",
       "min    83732.000000     1.000000  5.397605e-79     1.000000  5.397605e-79   \n",
       "25%    86224.500000     1.000000  9.000000e+00     2.000000  4.900000e+01   \n",
       "50%    88717.000000     2.000000  2.700000e+01     2.000000  5.800000e+01   \n",
       "75%    91209.500000     2.000000  5.300000e+01     2.000000  6.800000e+01   \n",
       "max    93702.000000     2.000000  8.000000e+01     9.000000  9.999900e+04   \n",
       "\n",
       "           MCQ160C       MCQ180C      MCQ160D       MCQ180D      MCQ160E  \\\n",
       "count  5719.000000    244.000000  5719.000000    133.000000  5719.000000   \n",
       "mean      1.989159   2105.020492     1.998426   1385.278195     1.967127   \n",
       "std       0.515131  14188.418440     0.416305  10938.594615     0.346324   \n",
       "min       1.000000     10.000000     1.000000     10.000000     1.000000   \n",
       "25%       2.000000     49.750000     2.000000     41.000000     2.000000   \n",
       "50%       2.000000     58.000000     2.000000     50.000000     2.000000   \n",
       "75%       2.000000     67.000000     2.000000     58.000000     2.000000   \n",
       "max       9.000000  99999.000000     9.000000  99999.000000     9.000000   \n",
       "\n",
       "            MCQ180E      MCQ160F       MCQ180F       HUQ071        HUD080  \\\n",
       "count    251.000000  5719.000000    209.000000  9971.000000    869.000000   \n",
       "mean    2047.545817     1.969575   1968.540670     1.915655    116.545455   \n",
       "std    13992.501625     0.280130  13726.376453     0.315762   3392.183886   \n",
       "min       20.000000     1.000000      2.000000     1.000000      1.000000   \n",
       "25%       48.500000     2.000000     47.000000     2.000000      1.000000   \n",
       "50%       57.000000     2.000000     59.000000     2.000000      1.000000   \n",
       "75%       66.000000     2.000000     69.000000     2.000000      2.000000   \n",
       "max    99999.000000     9.000000  99999.000000     9.000000  99999.000000   \n",
       "\n",
       "            ACD040  \n",
       "count  2882.000000  \n",
       "mean      2.920194  \n",
       "std       1.498078  \n",
       "min       1.000000  \n",
       "25%       1.000000  \n",
       "50%       3.000000  \n",
       "75%       4.000000  \n",
       "max       9.000000  "
      ]
     },
     "execution_count": 9,
     "metadata": {},
     "output_type": "execute_result"
    }
   ],
   "source": [
    "#Viewing summary of data for each series that is numeric.\n",
    "df_selected.describe()"
   ]
  },
  {
   "cell_type": "code",
   "execution_count": 10,
   "metadata": {},
   "outputs": [
    {
     "name": "stdout",
     "output_type": "stream",
     "text": [
      "<class 'pandas.core.frame.DataFrame'>\n",
      "Int64Index: 9971 entries, 0 to 9970\n",
      "Data columns (total 16 columns):\n",
      "SEQN        9971 non-null float64\n",
      "RIAGENDR    9971 non-null float64\n",
      "RIDAGEYR    9971 non-null float64\n",
      "MCQ160B     5719 non-null float64\n",
      "MCQ180B     214 non-null float64\n",
      "MCQ160C     5719 non-null float64\n",
      "MCQ180C     244 non-null float64\n",
      "MCQ160D     5719 non-null float64\n",
      "MCQ180D     133 non-null float64\n",
      "MCQ160E     5719 non-null float64\n",
      "MCQ180E     251 non-null float64\n",
      "MCQ160F     5719 non-null float64\n",
      "MCQ180F     209 non-null float64\n",
      "HUQ071      9971 non-null float64\n",
      "HUD080      869 non-null float64\n",
      "ACD040      2882 non-null float64\n",
      "dtypes: float64(16)\n",
      "memory usage: 1.3 MB\n",
      "None\n"
     ]
    }
   ],
   "source": [
    "print(df_selected.info())\n",
    "\n",
    "# In the summary above, many of the columns don't make a lot of sense, since # the numbers are a reference to\n",
    "# categorical variables. Others (for example, 'MCQ180C') don't make sense because some null values are coded as\n",
    "# '99999', '77777', '999', and '777'. Here, we will recode these as 'NaN'.\n",
    "\n",
    "df_selected = df_selected.replace([99999, 77777, 777, 999], np.nan)\n",
    "\n",
    "\n"
   ]
  },
  {
   "cell_type": "code",
   "execution_count": 11,
   "metadata": {},
   "outputs": [
    {
     "name": "stdout",
     "output_type": "stream",
     "text": [
      "<class 'pandas.core.frame.DataFrame'>\n",
      "Int64Index: 9971 entries, 0 to 9970\n",
      "Data columns (total 16 columns):\n",
      "SEQN        9971 non-null float64\n",
      "RIAGENDR    9971 non-null float64\n",
      "RIDAGEYR    9971 non-null float64\n",
      "MCQ160B     5719 non-null float64\n",
      "MCQ180B     209 non-null float64\n",
      "MCQ160C     5719 non-null float64\n",
      "MCQ180C     239 non-null float64\n",
      "MCQ160D     5719 non-null float64\n",
      "MCQ180D     131 non-null float64\n",
      "MCQ160E     5719 non-null float64\n",
      "MCQ180E     246 non-null float64\n",
      "MCQ160F     5719 non-null float64\n",
      "MCQ180F     205 non-null float64\n",
      "HUQ071      9971 non-null float64\n",
      "HUD080      868 non-null float64\n",
      "ACD040      2882 non-null float64\n",
      "dtypes: float64(16)\n",
      "memory usage: 1.3 MB\n"
     ]
    }
   ],
   "source": [
    "df_selected.info()"
   ]
  },
  {
   "cell_type": "code",
   "execution_count": 12,
   "metadata": {},
   "outputs": [
    {
     "data": {
      "text/html": [
       "<div>\n",
       "<style scoped>\n",
       "    .dataframe tbody tr th:only-of-type {\n",
       "        vertical-align: middle;\n",
       "    }\n",
       "\n",
       "    .dataframe tbody tr th {\n",
       "        vertical-align: top;\n",
       "    }\n",
       "\n",
       "    .dataframe thead th {\n",
       "        text-align: right;\n",
       "    }\n",
       "</style>\n",
       "<table border=\"1\" class=\"dataframe\">\n",
       "  <thead>\n",
       "    <tr style=\"text-align: right;\">\n",
       "      <th></th>\n",
       "      <th>SEQN</th>\n",
       "      <th>RIAGENDR</th>\n",
       "      <th>RIDAGEYR</th>\n",
       "      <th>MCQ160B</th>\n",
       "      <th>MCQ180B</th>\n",
       "      <th>MCQ160C</th>\n",
       "      <th>MCQ180C</th>\n",
       "      <th>MCQ160D</th>\n",
       "      <th>MCQ180D</th>\n",
       "      <th>MCQ160E</th>\n",
       "      <th>MCQ180E</th>\n",
       "      <th>MCQ160F</th>\n",
       "      <th>MCQ180F</th>\n",
       "      <th>HUQ071</th>\n",
       "      <th>HUD080</th>\n",
       "      <th>ACD040</th>\n",
       "    </tr>\n",
       "  </thead>\n",
       "  <tbody>\n",
       "    <tr>\n",
       "      <td>count</td>\n",
       "      <td>9971.000000</td>\n",
       "      <td>9971.000000</td>\n",
       "      <td>9.971000e+03</td>\n",
       "      <td>5719.000000</td>\n",
       "      <td>2.090000e+02</td>\n",
       "      <td>5719.000000</td>\n",
       "      <td>239.000000</td>\n",
       "      <td>5719.000000</td>\n",
       "      <td>131.000000</td>\n",
       "      <td>5719.000000</td>\n",
       "      <td>246.000000</td>\n",
       "      <td>5719.000000</td>\n",
       "      <td>205.000000</td>\n",
       "      <td>9971.000000</td>\n",
       "      <td>868.000000</td>\n",
       "      <td>2882.000000</td>\n",
       "    </tr>\n",
       "    <tr>\n",
       "      <td>mean</td>\n",
       "      <td>88717.000000</td>\n",
       "      <td>1.509377</td>\n",
       "      <td>3.189941e+01</td>\n",
       "      <td>1.976045</td>\n",
       "      <td>5.714354e+01</td>\n",
       "      <td>1.989159</td>\n",
       "      <td>57.029289</td>\n",
       "      <td>1.998426</td>\n",
       "      <td>49.358779</td>\n",
       "      <td>1.967127</td>\n",
       "      <td>56.662602</td>\n",
       "      <td>1.969575</td>\n",
       "      <td>55.751220</td>\n",
       "      <td>1.915655</td>\n",
       "      <td>1.473502</td>\n",
       "      <td>2.920194</td>\n",
       "    </tr>\n",
       "    <tr>\n",
       "      <td>std</td>\n",
       "      <td>2878.524101</td>\n",
       "      <td>0.499937</td>\n",
       "      <td>2.476883e+01</td>\n",
       "      <td>0.362099</td>\n",
       "      <td>1.422749e+01</td>\n",
       "      <td>0.515131</td>\n",
       "      <td>12.925903</td>\n",
       "      <td>0.416305</td>\n",
       "      <td>13.016007</td>\n",
       "      <td>0.346324</td>\n",
       "      <td>12.620197</td>\n",
       "      <td>0.280130</td>\n",
       "      <td>17.013304</td>\n",
       "      <td>0.315762</td>\n",
       "      <td>0.962018</td>\n",
       "      <td>1.498078</td>\n",
       "    </tr>\n",
       "    <tr>\n",
       "      <td>min</td>\n",
       "      <td>83732.000000</td>\n",
       "      <td>1.000000</td>\n",
       "      <td>5.397605e-79</td>\n",
       "      <td>1.000000</td>\n",
       "      <td>5.397605e-79</td>\n",
       "      <td>1.000000</td>\n",
       "      <td>10.000000</td>\n",
       "      <td>1.000000</td>\n",
       "      <td>10.000000</td>\n",
       "      <td>1.000000</td>\n",
       "      <td>20.000000</td>\n",
       "      <td>1.000000</td>\n",
       "      <td>2.000000</td>\n",
       "      <td>1.000000</td>\n",
       "      <td>1.000000</td>\n",
       "      <td>1.000000</td>\n",
       "    </tr>\n",
       "    <tr>\n",
       "      <td>25%</td>\n",
       "      <td>86224.500000</td>\n",
       "      <td>1.000000</td>\n",
       "      <td>9.000000e+00</td>\n",
       "      <td>2.000000</td>\n",
       "      <td>4.800000e+01</td>\n",
       "      <td>2.000000</td>\n",
       "      <td>49.000000</td>\n",
       "      <td>2.000000</td>\n",
       "      <td>41.000000</td>\n",
       "      <td>2.000000</td>\n",
       "      <td>48.000000</td>\n",
       "      <td>2.000000</td>\n",
       "      <td>47.000000</td>\n",
       "      <td>2.000000</td>\n",
       "      <td>1.000000</td>\n",
       "      <td>1.000000</td>\n",
       "    </tr>\n",
       "    <tr>\n",
       "      <td>50%</td>\n",
       "      <td>88717.000000</td>\n",
       "      <td>2.000000</td>\n",
       "      <td>2.700000e+01</td>\n",
       "      <td>2.000000</td>\n",
       "      <td>5.800000e+01</td>\n",
       "      <td>2.000000</td>\n",
       "      <td>57.000000</td>\n",
       "      <td>2.000000</td>\n",
       "      <td>50.000000</td>\n",
       "      <td>2.000000</td>\n",
       "      <td>57.000000</td>\n",
       "      <td>2.000000</td>\n",
       "      <td>58.000000</td>\n",
       "      <td>2.000000</td>\n",
       "      <td>1.000000</td>\n",
       "      <td>3.000000</td>\n",
       "    </tr>\n",
       "    <tr>\n",
       "      <td>75%</td>\n",
       "      <td>91209.500000</td>\n",
       "      <td>2.000000</td>\n",
       "      <td>5.300000e+01</td>\n",
       "      <td>2.000000</td>\n",
       "      <td>6.800000e+01</td>\n",
       "      <td>2.000000</td>\n",
       "      <td>66.000000</td>\n",
       "      <td>2.000000</td>\n",
       "      <td>58.000000</td>\n",
       "      <td>2.000000</td>\n",
       "      <td>66.000000</td>\n",
       "      <td>2.000000</td>\n",
       "      <td>68.000000</td>\n",
       "      <td>2.000000</td>\n",
       "      <td>2.000000</td>\n",
       "      <td>4.000000</td>\n",
       "    </tr>\n",
       "    <tr>\n",
       "      <td>max</td>\n",
       "      <td>93702.000000</td>\n",
       "      <td>2.000000</td>\n",
       "      <td>8.000000e+01</td>\n",
       "      <td>9.000000</td>\n",
       "      <td>8.000000e+01</td>\n",
       "      <td>9.000000</td>\n",
       "      <td>80.000000</td>\n",
       "      <td>9.000000</td>\n",
       "      <td>80.000000</td>\n",
       "      <td>9.000000</td>\n",
       "      <td>80.000000</td>\n",
       "      <td>9.000000</td>\n",
       "      <td>80.000000</td>\n",
       "      <td>9.000000</td>\n",
       "      <td>6.000000</td>\n",
       "      <td>9.000000</td>\n",
       "    </tr>\n",
       "  </tbody>\n",
       "</table>\n",
       "</div>"
      ],
      "text/plain": [
       "               SEQN     RIAGENDR      RIDAGEYR      MCQ160B       MCQ180B  \\\n",
       "count   9971.000000  9971.000000  9.971000e+03  5719.000000  2.090000e+02   \n",
       "mean   88717.000000     1.509377  3.189941e+01     1.976045  5.714354e+01   \n",
       "std     2878.524101     0.499937  2.476883e+01     0.362099  1.422749e+01   \n",
       "min    83732.000000     1.000000  5.397605e-79     1.000000  5.397605e-79   \n",
       "25%    86224.500000     1.000000  9.000000e+00     2.000000  4.800000e+01   \n",
       "50%    88717.000000     2.000000  2.700000e+01     2.000000  5.800000e+01   \n",
       "75%    91209.500000     2.000000  5.300000e+01     2.000000  6.800000e+01   \n",
       "max    93702.000000     2.000000  8.000000e+01     9.000000  8.000000e+01   \n",
       "\n",
       "           MCQ160C     MCQ180C      MCQ160D     MCQ180D      MCQ160E  \\\n",
       "count  5719.000000  239.000000  5719.000000  131.000000  5719.000000   \n",
       "mean      1.989159   57.029289     1.998426   49.358779     1.967127   \n",
       "std       0.515131   12.925903     0.416305   13.016007     0.346324   \n",
       "min       1.000000   10.000000     1.000000   10.000000     1.000000   \n",
       "25%       2.000000   49.000000     2.000000   41.000000     2.000000   \n",
       "50%       2.000000   57.000000     2.000000   50.000000     2.000000   \n",
       "75%       2.000000   66.000000     2.000000   58.000000     2.000000   \n",
       "max       9.000000   80.000000     9.000000   80.000000     9.000000   \n",
       "\n",
       "          MCQ180E      MCQ160F     MCQ180F       HUQ071      HUD080  \\\n",
       "count  246.000000  5719.000000  205.000000  9971.000000  868.000000   \n",
       "mean    56.662602     1.969575   55.751220     1.915655    1.473502   \n",
       "std     12.620197     0.280130   17.013304     0.315762    0.962018   \n",
       "min     20.000000     1.000000    2.000000     1.000000    1.000000   \n",
       "25%     48.000000     2.000000   47.000000     2.000000    1.000000   \n",
       "50%     57.000000     2.000000   58.000000     2.000000    1.000000   \n",
       "75%     66.000000     2.000000   68.000000     2.000000    2.000000   \n",
       "max     80.000000     9.000000   80.000000     9.000000    6.000000   \n",
       "\n",
       "            ACD040  \n",
       "count  2882.000000  \n",
       "mean      2.920194  \n",
       "std       1.498078  \n",
       "min       1.000000  \n",
       "25%       1.000000  \n",
       "50%       3.000000  \n",
       "75%       4.000000  \n",
       "max       9.000000  "
      ]
     },
     "execution_count": 12,
     "metadata": {},
     "output_type": "execute_result"
    }
   ],
   "source": [
    "#Viewing summary of all columns to confirm that the numeric elements containing 'refused' and 'missing' answers have been \n",
    "# changed to null.\n",
    "df_selected.describe()"
   ]
  },
  {
   "cell_type": "code",
   "execution_count": 13,
   "metadata": {},
   "outputs": [
    {
     "data": {
      "image/png": "[encoded data removed]",
      "text/plain": [
       "<Figure size 432x288 with 1 Axes>"
      ]
     },
     "metadata": {
      "needs_background": "light"
     },
     "output_type": "display_data"
    },
    {
     "data": {
      "image/png": "[encoded data removed]",
      "text/plain": [
       "<Figure size 432x288 with 1 Axes>"
      ]
     },
     "metadata": {
      "needs_background": "light"
     },
     "output_type": "display_data"
    },
    {
     "data": {
      "image/png": "[encoded data removed]",
      "text/plain": [
       "<Figure size 432x288 with 1 Axes>"
      ]
     },
     "metadata": {
      "needs_background": "light"
     },
     "output_type": "display_data"
    },
    {
     "data": {
      "image/png": "[encoded data removed]",
      "text/plain": [
       "<Figure size 432x288 with 1 Axes>"
      ]
     },
     "metadata": {
      "needs_background": "light"
     },
     "output_type": "display_data"
    },
    {
     "data": {
      "image/png": "[encoded data removed]",
      "text/plain": [
       "<Figure size 432x288 with 1 Axes>"
      ]
     },
     "metadata": {
      "needs_background": "light"
     },
     "output_type": "display_data"
    },
    {
     "data": {
      "image/png": "[encoded data removed]",
      "text/plain": [
       "<Figure size 432x288 with 1 Axes>"
      ]
     },
     "metadata": {
      "needs_background": "light"
     },
     "output_type": "display_data"
    },
    {
     "data": {
      "image/png": "[encoded data removed]",
      "text/plain": [
       "<Figure size 432x288 with 1 Axes>"
      ]
     },
     "metadata": {
      "needs_background": "light"
     },
     "output_type": "display_data"
    }
   ],
   "source": [
    "#Viewing boxplot for each variable that is numeric; Note that there are a few outliers participants \n",
    "# who had cardiovascular disease onset during childhood. During analysis, will most likely remove all participants\n",
    "# under the age of 20, since they were managed differently than adults during the collection of data and there\n",
    "# are only a few of these outliers.\n",
    "\n",
    "df_selected.RIDAGEYR.plot(kind='box', title='age')\n",
    "plt.show()\n",
    "df_selected.MCQ180B.plot(kind='box', title='age of onset - CHF')\n",
    "plt.show()\n",
    "df_selected.MCQ180C.plot(kind='box', title='age of onset - CHD')\n",
    "plt.show()\n",
    "df_selected.MCQ180D.plot(kind='box', title='age of onset - angina')\n",
    "plt.show()\n",
    "df_selected.MCQ180E.plot(kind='box', title= 'age of heart attack')\n",
    "plt.show()\n",
    "df_selected.MCQ180F.plot(kind='box', title= 'age of stroke')\n",
    "plt.show()\n",
    "df_selected.HUD080.plot(kind='box', title='number of overnight hospital stays in last year')\n",
    "plt.show()\n",
    "\n"
   ]
  },
  {
   "cell_type": "code",
   "execution_count": 14,
   "metadata": {},
   "outputs": [
    {
     "data": {
      "image/png": "[encoded data removed]",
      "text/plain": [
       "<Figure size 432x288 with 1 Axes>"
      ]
     },
     "metadata": {
      "needs_background": "light"
     },
     "output_type": "display_data"
    },
    {
     "data": {
      "image/png": "[encoded data removed]",
      "text/plain": [
       "<Figure size 432x288 with 1 Axes>"
      ]
     },
     "metadata": {
      "needs_background": "light"
     },
     "output_type": "display_data"
    },
    {
     "data": {
      "image/png": "[encoded data removed]",
      "text/plain": [
       "<Figure size 432x288 with 1 Axes>"
      ]
     },
     "metadata": {
      "needs_background": "light"
     },
     "output_type": "display_data"
    },
    {
     "data": {
      "image/png": "[encoded data removed]",
      "text/plain": [
       "<Figure size 432x288 with 1 Axes>"
      ]
     },
     "metadata": {
      "needs_background": "light"
     },
     "output_type": "display_data"
    },
    {
     "data": {
      "image/png": "[encoded data removed]",
      "text/plain": [
       "<Figure size 432x288 with 1 Axes>"
      ]
     },
     "metadata": {
      "needs_background": "light"
     },
     "output_type": "display_data"
    },
    {
     "data": {
      "image/png": "[encoded data removed]",
      "text/plain": [
       "<Figure size 432x288 with 1 Axes>"
      ]
     },
     "metadata": {
      "needs_background": "light"
     },
     "output_type": "display_data"
    },
    {
     "data": {
      "image/png": "[encoded data removed]",
      "text/plain": [
       "<Figure size 432x288 with 1 Axes>"
      ]
     },
     "metadata": {
      "needs_background": "light"
     },
     "output_type": "display_data"
    },
    {
     "data": {
      "image/png": "[encoded data removed]",
      "text/plain": [
       "<Figure size 432x288 with 1 Axes>"
      ]
     },
     "metadata": {
      "needs_background": "light"
     },
     "output_type": "display_data"
    },
    {
     "data": {
      "image/png": "[encoded data removed]",
      "text/plain": [
       "<Figure size 432x288 with 1 Axes>"
      ]
     },
     "metadata": {
      "needs_background": "light"
     },
     "output_type": "display_data"
    },
    {
     "data": {
      "image/png": "[encoded data removed]",
      "text/plain": [
       "<Figure size 432x288 with 1 Axes>"
      ]
     },
     "metadata": {
      "needs_background": "light"
     },
     "output_type": "display_data"
    },
    {
     "data": {
      "image/png": "[encoded data removed]",
      "text/plain": [
       "<Figure size 432x288 with 1 Axes>"
      ]
     },
     "metadata": {
      "needs_background": "light"
     },
     "output_type": "display_data"
    },
    {
     "data": {
      "image/png": "[encoded data removed]",
      "text/plain": [
       "<Figure size 432x288 with 1 Axes>"
      ]
     },
     "metadata": {
      "needs_background": "light"
     },
     "output_type": "display_data"
    },
    {
     "data": {
      "image/png": "[encoded data removed]",
      "text/plain": [
       "<Figure size 432x288 with 1 Axes>"
      ]
     },
     "metadata": {
      "needs_background": "light"
     },
     "output_type": "display_data"
    },
    {
     "data": {
      "image/png": "[encoded data removed]",
      "text/plain": [
       "<Figure size 432x288 with 1 Axes>"
      ]
     },
     "metadata": {
      "needs_background": "light"
     },
     "output_type": "display_data"
    }
   ],
   "source": [
    "df_selected.RIAGENDR.plot(kind='hist', title='gender (1=male, 2=female)')\n",
    "plt.show()\n",
    "df_selected.RIDAGEYR.plot(kind='hist', title='age')\n",
    "plt.show()\n",
    "df_selected.MCQ160B.plot(kind='hist', title='ever told you have CHF? (1=yes, 2=no, 7=refused, 9= unknown)')\n",
    "plt.show()\n",
    "df_selected.MCQ180B.plot(kind='hist', title='age of onset - CHF')\n",
    "plt.show()\n",
    "df_selected.MCQ160C.plot(kind='hist', title='ever told you have CHD?(1=yes, 2=no, 7=refused, 9= unknown)')\n",
    "plt.show()\n",
    "df_selected.MCQ180C.plot(kind='hist', title='age of onset - CHD')\n",
    "plt.show()\n",
    "df_selected.MCQ160D.plot(kind='hist', title='ever told you have angina?(1=yes, 2=no, 7=refused, 9= unknown)')\n",
    "plt.show()\n",
    "df_selected.MCQ180D.plot(kind='hist', title='age of onset - angina')\n",
    "plt.show()\n",
    "df_selected.MCQ160E.plot(kind='hist', title='ever told you have had a heart attack?(1=yes, 2=no, 7=refused, 9= unknown)')\n",
    "plt.show()\n",
    "df_selected.MCQ180E.plot(kind='hist', title= 'age of heart attack')\n",
    "plt.show()\n",
    "df_selected.MCQ160F.plot(kind='hist', title='ever told you have had a stroke?(1=yes, 2=no, 7=refused, 9= unknown)')\n",
    "plt.show()\n",
    "df_selected.MCQ180F.plot(kind='hist', title= 'age of stroke')\n",
    "plt.show()\n",
    "df_selected.HUQ071.plot(kind='hist', title='overnight hospital stay in last year (y=1, n=2, unknown= 9)')\n",
    "plt.show()\n",
    "df_selected.HUD080.plot(kind='hist', title='number of overnight hospital stays in last year')\n",
    "plt.show()\n"
   ]
  },
  {
   "cell_type": "code",
   "execution_count": null,
   "metadata": {},
   "outputs": [],
   "source": []
  }
 ],
 "metadata": {
  "kernelspec": {
   "display_name": "Python 3",
   "language": "python",
   "name": "python3"
  },
  "language_info": {
   "codemirror_mode": {
    "name": "ipython",
    "version": 3
   },
   "file_extension": ".py",
   "mimetype": "text/x-python",
   "name": "python",
   "nbconvert_exporter": "python",
   "pygments_lexer": "ipython3",
   "version": "3.7.4"
  }
 },
 "nbformat": 4,
 "nbformat_minor": 2
}
