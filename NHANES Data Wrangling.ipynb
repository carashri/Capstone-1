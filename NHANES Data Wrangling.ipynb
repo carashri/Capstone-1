{
 "cells": [
  {
   "cell_type": "markdown",
   "metadata": {},
   "source": [
    "## Data Wrangling on NHANES Data\n",
    "\n",
    "#### The objective:\n",
    "The first step in completing your capstone project is to collect data. Depending on your dataset, you may apply some of the data wrangling techniques that you learned in this unit. Some of you may be using standard datasets and sources, such as Kaggle or Yelp, where minimal or no data wrangling is required. Students often find that this part of the project takes a lot longer than they estimated, which is completely normal. The more work you put in, the more you’ll learn. Data wrangling is an important tool in a data scientist’s toolbox!  \n",
    "\n",
    "__Steps:__\n",
    "\n",
    "1. Create a Google Doc (1-2 pages) describing the data wrangling steps you took to clean the dataset. Include answers to these questions in your submission:\n",
    "\n",
    "    1. What kind of cleaning steps did you perform?\n",
    "\n",
    "    2. How did you deal with missing values, if any?\n",
    "\n",
    "    3. Were there outliers, and how did you handle them?\n",
    "\n",
    "2. Submit a link to the document.\n",
    "\n",
    "3. Discuss it with your mentor at the next call.\n",
    "\n",
    "4. Revise and resubmit if needed.\n",
    "\n",
    "5. Convert the final document to a .pdf and add it to your GitHub repository for this project. This document will eventually become part of your milestone report."
   ]
  },
  {
   "cell_type": "markdown",
   "metadata": {},
   "source": [
    "Importing pandas library (for data manipulation and analysis)"
   ]
  },
  {
   "cell_type": "code",
   "execution_count": 1,
   "metadata": {},
   "outputs": [],
   "source": [
    "import pandas as pd"
   ]
  },
  {
   "cell_type": "code",
   "execution_count": 2,
   "metadata": {},
   "outputs": [
    {
     "data": {
      "text/plain": [
       "pandas.core.frame.DataFrame"
      ]
     },
     "execution_count": 2,
     "metadata": {},
     "output_type": "execute_result"
    }
   ],
   "source": [
    "#Reading SAS data files into a pandas dataframes\n",
    "df_mcq = pd.read_sas('NHANES/MCQ_I_medical_conditions.XPT')\n",
    "df_demo = pd.read_sas('NHANES/DEMO_I_demographics.XPT')\n",
    "df_acq = pd.read_sas('NHANES/ACQ_I_acculturation.XPT')\n",
    "df_huq = pd.read_sas('NHANES/HUQ_I_hospitalization.XPT')\n",
    "df_hiq = pd.read_sas('NHANES/HIQ_I_health_insurance.xpt')\n",
    "\n",
    "#Merging the five dataframes together into one large dataframe\n",
    "df_full = df_mcq.merge(df_demo, on='SEQN', how='outer') \\\n",
    ".merge(df_acq, on='SEQN', how='outer').merge(df_huq, on='SEQN', how='outer') \\\n",
    ".merge(df_hiq, on='SEQN', how='outer')\n",
    "#Removing values with response: \"Refused\" or \"Don't Know\" (rows with 77777 or 99999 values, respectively)\n",
    "df_full = df_full[(df_full != 99999) & (df_full != 77777)]\n",
    "\n",
    "#Confirming pandas dataframe has been created\n",
    "type(df_full)\n"
   ]
  },
  {
   "cell_type": "code",
   "execution_count": 3,
   "metadata": {},
   "outputs": [
    {
     "name": "stdout",
     "output_type": "stream",
     "text": [
      "      SEQN  MCQ010  MCQ025  MCQ035  MCQ040  MCQ050  AGQ030  MCQ053  MCQ080  \\\n",
      "0  83732.0     2.0     NaN     NaN     NaN     NaN     NaN     2.0     1.0   \n",
      "1  83733.0     2.0     NaN     NaN     NaN     NaN     NaN     2.0     2.0   \n",
      "2  83734.0     1.0    60.0     1.0     2.0     2.0     1.0     2.0     1.0   \n",
      "3  83735.0     2.0     NaN     NaN     NaN     NaN     NaN     2.0     1.0   \n",
      "4  83736.0     1.0    10.0     2.0     NaN     NaN     NaN     2.0     2.0   \n",
      "\n",
      "   MCQ092  ...  HIQ031F  HIQ031G  HIQ031H  HIQ031I  HIQ031J  HIQ031AA  HIQ260  \\\n",
      "0     2.0  ...      NaN      NaN      NaN      NaN      NaN       NaN     NaN   \n",
      "1     2.0  ...      NaN      NaN      NaN      NaN      NaN       NaN     NaN   \n",
      "2     2.0  ...      NaN      NaN      NaN      NaN      NaN       NaN     NaN   \n",
      "3     2.0  ...      NaN      NaN      NaN      NaN      NaN       NaN     NaN   \n",
      "4     2.0  ...      NaN      NaN      NaN      NaN      NaN       NaN     NaN   \n",
      "\n",
      "   HIQ105  HIQ270  HIQ210  \n",
      "0     NaN     1.0     2.0  \n",
      "1     NaN     NaN     NaN  \n",
      "2     1.0     1.0     2.0  \n",
      "3     NaN     1.0     2.0  \n",
      "4     NaN     1.0     2.0  \n",
      "\n",
      "[5 rows x 166 columns]\n",
      "         SEQN  MCQ010  MCQ025  MCQ035  MCQ040  MCQ050  AGQ030  MCQ053  MCQ080  \\\n",
      "9966  93444.0     NaN     NaN     NaN     NaN     NaN     NaN     NaN     NaN   \n",
      "9967  93497.0     NaN     NaN     NaN     NaN     NaN     NaN     NaN     NaN   \n",
      "9968  93507.0     NaN     NaN     NaN     NaN     NaN     NaN     NaN     NaN   \n",
      "9969  93542.0     NaN     NaN     NaN     NaN     NaN     NaN     NaN     NaN   \n",
      "9970  93635.0     NaN     NaN     NaN     NaN     NaN     NaN     NaN     NaN   \n",
      "\n",
      "      MCQ092  ...  HIQ031F  HIQ031G  HIQ031H  HIQ031I  HIQ031J  HIQ031AA  \\\n",
      "9966     NaN  ...      NaN      NaN      NaN      NaN      NaN       NaN   \n",
      "9967     NaN  ...      NaN      NaN      NaN      NaN      NaN       NaN   \n",
      "9968     NaN  ...      NaN      NaN      NaN      NaN      NaN       NaN   \n",
      "9969     NaN  ...      NaN      NaN      NaN     22.0      NaN       NaN   \n",
      "9970     NaN  ...      NaN      NaN      NaN      NaN      NaN       NaN   \n",
      "\n",
      "      HIQ260  HIQ105  HIQ270  HIQ210  \n",
      "9966     NaN     NaN     1.0     2.0  \n",
      "9967     NaN     NaN     1.0     2.0  \n",
      "9968     NaN     NaN     NaN     NaN  \n",
      "9969     NaN     NaN     1.0     2.0  \n",
      "9970     NaN     NaN     1.0     2.0  \n",
      "\n",
      "[5 rows x 166 columns]\n"
     ]
    }
   ],
   "source": [
    "# Exploring the dataset\n",
    "print(df_full.head())\n",
    "print(df_full.tail())"
   ]
  },
  {
   "cell_type": "code",
   "execution_count": 4,
   "metadata": {},
   "outputs": [
    {
     "data": {
      "text/plain": [
       "Index(['SEQN', 'MCQ010', 'MCQ025', 'MCQ035', 'MCQ040', 'MCQ050', 'AGQ030',\n",
       "       'MCQ053', 'MCQ080', 'MCQ092',\n",
       "       ...\n",
       "       'HIQ031F', 'HIQ031G', 'HIQ031H', 'HIQ031I', 'HIQ031J', 'HIQ031AA',\n",
       "       'HIQ260', 'HIQ105', 'HIQ270', 'HIQ210'],\n",
       "      dtype='object', length=166)"
      ]
     },
     "execution_count": 4,
     "metadata": {},
     "output_type": "execute_result"
    }
   ],
   "source": [
    "df_full.columns"
   ]
  },
  {
   "cell_type": "code",
   "execution_count": 5,
   "metadata": {},
   "outputs": [
    {
     "name": "stdout",
     "output_type": "stream",
     "text": [
      "<class 'pandas.core.frame.DataFrame'>\n",
      "Int64Index: 9971 entries, 0 to 9970\n",
      "Columns: 166 entries, SEQN to HIQ210\n",
      "dtypes: float64(166)\n",
      "memory usage: 12.7 MB\n"
     ]
    }
   ],
   "source": [
    "df_full.info()"
   ]
  },
  {
   "cell_type": "code",
   "execution_count": 6,
   "metadata": {
    "scrolled": true
   },
   "outputs": [
    {
     "data": {
      "text/plain": [
       "Index(['RIAGENDR', 'RIDAGEYR', 'MCQ160B', 'MCQ180B', 'MCQ160C', 'MCQ180C',\n",
       "       'MCQ160D', 'MCQ180D', 'MCQ160E', 'MCQ180E', 'MCQ160F', 'MCQ180F',\n",
       "       'HUQ071', 'HUD080'],\n",
       "      dtype='object')"
      ]
     },
     "execution_count": 6,
     "metadata": {},
     "output_type": "execute_result"
    }
   ],
   "source": [
    "#selecting a few columns of interest. RIAGENDR = participant's gender; \n",
    "#RIDAGEYR = Current age of participant;\n",
    "# MCQ160b = 'Have you ever been told you have congestive heart failure? (Y/N); \n",
    "# MCQ180b = Age when told you had heart failure; \n",
    "# MCQ160c = 'Have you ever been told you had coronary heart disease?'(Y/N)\n",
    "# MCQ180c = Age of onset of coronary heart disease\n",
    "# MCQ160d = 'Have you ever been told you have angina/angina pectoris? (Y/N); \n",
    "# MCQ180d = Age of onset of angina/angina pectoris \n",
    "# MCQ160e = 'Ever told you had a heart attack'(Y/N)\n",
    "# MCQ180e = Age when told you had a heart attack\n",
    "# MCQ160f = 'Have you ever been told you had a stroke?'(Y/N)\n",
    "# MCQ180f = Age when told you had a stroke\n",
    "\n",
    "# HUD080 = Number of hospital stays in the last year (participant answered 1 or more hospital stays to this question)\n",
    "\n",
    "df_selected = df_full[['RIAGENDR', 'RIDAGEYR', 'MCQ160B', 'MCQ180B', 'MCQ160C', 'MCQ180C','MCQ160D', 'MCQ180D', 'MCQ160E', 'MCQ180E', 'MCQ160F', 'MCQ180F', 'HUQ071', 'HUD080']]\n",
    "df_selected.columns\n"
   ]
  },
  {
   "cell_type": "code",
   "execution_count": 7,
   "metadata": {},
   "outputs": [
    {
     "name": "stdout",
     "output_type": "stream",
     "text": [
      "<class 'pandas.core.frame.DataFrame'>\n",
      "Int64Index: 9971 entries, 0 to 9970\n",
      "Data columns (total 14 columns):\n",
      "RIAGENDR    9971 non-null float64\n",
      "RIDAGEYR    9971 non-null float64\n",
      "MCQ160B     5719 non-null float64\n",
      "MCQ180B     209 non-null float64\n",
      "MCQ160C     5719 non-null float64\n",
      "MCQ180C     239 non-null float64\n",
      "MCQ160D     5719 non-null float64\n",
      "MCQ180D     131 non-null float64\n",
      "MCQ160E     5719 non-null float64\n",
      "MCQ180E     246 non-null float64\n",
      "MCQ160F     5719 non-null float64\n",
      "MCQ180F     205 non-null float64\n",
      "HUQ071      9971 non-null float64\n",
      "HUD080      868 non-null float64\n",
      "dtypes: float64(14)\n",
      "memory usage: 1.1 MB\n"
     ]
    }
   ],
   "source": [
    "df_selected.info()"
   ]
  },
  {
   "cell_type": "code",
   "execution_count": 8,
   "metadata": {},
   "outputs": [
    {
     "name": "stdout",
     "output_type": "stream",
     "text": [
      "<class 'pandas.core.frame.DataFrame'>\n",
      "Int64Index: 9971 entries, 0 to 9970\n",
      "Data columns (total 14 columns):\n",
      "RIAGENDR    9971 non-null float64\n",
      "RIDAGEYR    9971 non-null float64\n",
      "MCQ160B     5719 non-null float64\n",
      "MCQ180B     209 non-null float64\n",
      "MCQ160C     5719 non-null float64\n",
      "MCQ180C     239 non-null float64\n",
      "MCQ160D     5719 non-null float64\n",
      "MCQ180D     131 non-null float64\n",
      "MCQ160E     5719 non-null float64\n",
      "MCQ180E     246 non-null float64\n",
      "MCQ160F     5719 non-null float64\n",
      "MCQ180F     205 non-null float64\n",
      "HUQ071      9971 non-null float64\n",
      "HUD080      868 non-null float64\n",
      "dtypes: float64(14)\n",
      "memory usage: 1.1 MB\n"
     ]
    }
   ],
   "source": [
    "#Viewing data types and count of non-null elements for selected columns.\n",
    "df_selected.info()\n"
   ]
  },
  {
   "cell_type": "code",
   "execution_count": 9,
   "metadata": {},
   "outputs": [],
   "source": [
    "#Decided to not remove null values at this time, since all questions do not apply to all study participants"
   ]
  },
  {
   "cell_type": "code",
   "execution_count": 10,
   "metadata": {},
   "outputs": [
    {
     "data": {
      "text/plain": [
       "count    131.000000\n",
       "mean      49.358779\n",
       "std       13.016007\n",
       "min       10.000000\n",
       "25%       41.000000\n",
       "50%       50.000000\n",
       "75%       58.000000\n",
       "max       80.000000\n",
       "Name: MCQ180D, dtype: float64"
      ]
     },
     "execution_count": 10,
     "metadata": {},
     "output_type": "execute_result"
    }
   ],
   "source": [
    "#Viewing summary of data for Congestive heart failure age of onset\n",
    "df_full.MCQ180D.describe()"
   ]
  },
  {
   "cell_type": "code",
   "execution_count": 11,
   "metadata": {},
   "outputs": [
    {
     "data": {
      "text/plain": [
       "count    9.971000e+03\n",
       "mean     3.189941e+01\n",
       "std      2.476883e+01\n",
       "min      5.397605e-79\n",
       "25%      9.000000e+00\n",
       "50%      2.700000e+01\n",
       "75%      5.300000e+01\n",
       "max      8.000000e+01\n",
       "Name: RIDAGEYR, dtype: float64"
      ]
     },
     "execution_count": 11,
     "metadata": {},
     "output_type": "execute_result"
    }
   ],
   "source": [
    "#Viewing summary of current age of all study participants included in this sample.\n",
    "df_selected.RIDAGEYR.describe()"
   ]
  },
  {
   "cell_type": "code",
   "execution_count": 12,
   "metadata": {},
   "outputs": [
    {
     "data": {
      "text/plain": [
       "count    868.000000\n",
       "mean       1.473502\n",
       "std        0.962018\n",
       "min        1.000000\n",
       "25%        1.000000\n",
       "50%        1.000000\n",
       "75%        2.000000\n",
       "max        6.000000\n",
       "Name: HUD080, dtype: float64"
      ]
     },
     "execution_count": 12,
     "metadata": {},
     "output_type": "execute_result"
    }
   ],
   "source": [
    "df_selected.HUD080.describe()"
   ]
  },
  {
   "cell_type": "code",
   "execution_count": 13,
   "metadata": {},
   "outputs": [
    {
     "ename": "NameError",
     "evalue": "name 'plt' is not defined",
     "output_type": "error",
     "traceback": [
      "\u001b[1;31m---------------------------------------------------------------------------\u001b[0m",
      "\u001b[1;31mNameError\u001b[0m                                 Traceback (most recent call last)",
      "\u001b[1;32m<ipython-input-13-7ede638ba968>\u001b[0m in \u001b[0;36m<module>\u001b[1;34m\u001b[0m\n\u001b[0;32m      1\u001b[0m \u001b[1;31m#Viewing boxplot for age of onset of Congestive Heart Failure\u001b[0m\u001b[1;33m\u001b[0m\u001b[1;33m\u001b[0m\u001b[1;33m\u001b[0m\u001b[0m\n\u001b[0;32m      2\u001b[0m \u001b[0mdf_selected\u001b[0m\u001b[1;33m.\u001b[0m\u001b[0mMCQ180F\u001b[0m\u001b[1;33m.\u001b[0m\u001b[0mplot\u001b[0m\u001b[1;33m(\u001b[0m\u001b[0mkind\u001b[0m\u001b[1;33m=\u001b[0m\u001b[1;34m'box'\u001b[0m\u001b[1;33m)\u001b[0m\u001b[1;33m\u001b[0m\u001b[1;33m\u001b[0m\u001b[0m\n\u001b[1;32m----> 3\u001b[1;33m \u001b[0mplt\u001b[0m\u001b[1;33m.\u001b[0m\u001b[0mshow\u001b[0m\u001b[1;33m\u001b[0m\u001b[1;33m\u001b[0m\u001b[0m\n\u001b[0m",
      "\u001b[1;31mNameError\u001b[0m: name 'plt' is not defined"
     ]
    }
   ],
   "source": [
    "#Viewing boxplot for age of onset of Congestive Heart Failure\n",
    "df_selected.MCQ180F.plot(kind='box')\n",
    "plt.show"
   ]
  },
  {
   "cell_type": "code",
   "execution_count": null,
   "metadata": {},
   "outputs": [],
   "source": [
    "#Viewing boxplot for number hospital stays\n",
    "df_selected.HUD080.plot(kind='box')\n",
    "plt.show\n",
    "df_selected.HUD080.plot(kind='hist')\n",
    "plt.show"
   ]
  },
  {
   "cell_type": "code",
   "execution_count": null,
   "metadata": {},
   "outputs": [],
   "source": []
  }
 ],
 "metadata": {
  "kernelspec": {
   "display_name": "Python 3",
   "language": "python",
   "name": "python3"
  },
  "language_info": {
   "codemirror_mode": {
    "name": "ipython",
    "version": 3
   },
   "file_extension": ".py",
   "mimetype": "text/x-python",
   "name": "python",
   "nbconvert_exporter": "python",
   "pygments_lexer": "ipython3",
   "version": "3.7.4"
  }
 },
 "nbformat": 4,
 "nbformat_minor": 2
}
